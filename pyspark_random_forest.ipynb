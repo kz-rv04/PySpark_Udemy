{
 "cells": [
  {
   "attachments": {},
   "cell_type": "markdown",
   "metadata": {},
   "source": [
    "## ランダムフォレストによる分類予測\n",
    "- bank-fullのy列(定期預金を申し込んだか否か)について分類予測する\n",
    "- 特徴量は簡単のため、数値の列と文字列の\"default\"列のみ仕様する\n",
    "- パイプラインは使わないでやってみる"
   ]
  },
  {
   "cell_type": "code",
   "execution_count": 1,
   "metadata": {},
   "outputs": [],
   "source": [
    "import pandas as pd\n",
    "import numpy as np"
   ]
  },
  {
   "cell_type": "code",
   "execution_count": 2,
   "metadata": {},
   "outputs": [
    {
     "name": "stderr",
     "output_type": "stream",
     "text": [
      "your 131072x1 screen size is bogus. expect trouble\n"
     ]
    },
    {
     "name": "stdout",
     "output_type": "stream",
     "text": [
      "23/03/11 21:26:47 WARN Utils: Your hostname, NONAME resolves to a loopback address: 127.0.1.1; using 172.18.233.170 instead (on interface eth0)\n",
      "23/03/11 21:26:47 WARN Utils: Set SPARK_LOCAL_IP if you need to bind to another address\n"
     ]
    },
    {
     "name": "stderr",
     "output_type": "stream",
     "text": [
      "Setting default log level to \"WARN\".\n",
      "To adjust logging level use sc.setLogLevel(newLevel). For SparkR, use setLogLevel(newLevel).\n"
     ]
    },
    {
     "name": "stdout",
     "output_type": "stream",
     "text": [
      "23/03/11 21:26:48 WARN NativeCodeLoader: Unable to load native-hadoop library for your platform... using builtin-java classes where applicable\n"
     ]
    }
   ],
   "source": [
    "from pyspark.sql import SparkSession\n",
    "spark = SparkSession.builder.master(\"local\").appName(\"random_forest\").getOrCreate()"
   ]
  },
  {
   "cell_type": "code",
   "execution_count": 3,
   "metadata": {},
   "outputs": [
    {
     "name": "stdout",
     "output_type": "stream",
     "text": [
      "+---+------------+--------+---------+-------+-------+-------+----+-------+---+-----+--------+--------+-----+--------+--------+---+\n",
      "|age|         job| marital|education|default|balance|housing|loan|contact|day|month|duration|campaign|pdays|previous|poutcome|  y|\n",
      "+---+------------+--------+---------+-------+-------+-------+----+-------+---+-----+--------+--------+-----+--------+--------+---+\n",
      "| 58|  management| married| tertiary|     no|   2143|    yes|  no|unknown|  5|  may|     261|       1|   -1|       0| unknown| no|\n",
      "| 44|  technician|  single|secondary|     no|     29|    yes|  no|unknown|  5|  may|     151|       1|   -1|       0| unknown| no|\n",
      "| 33|entrepreneur| married|secondary|     no|      2|    yes| yes|unknown|  5|  may|      76|       1|   -1|       0| unknown| no|\n",
      "| 47| blue-collar| married|  unknown|     no|   1506|    yes|  no|unknown|  5|  may|      92|       1|   -1|       0| unknown| no|\n",
      "| 33|     unknown|  single|  unknown|     no|      1|     no|  no|unknown|  5|  may|     198|       1|   -1|       0| unknown| no|\n",
      "| 35|  management| married| tertiary|     no|    231|    yes|  no|unknown|  5|  may|     139|       1|   -1|       0| unknown| no|\n",
      "| 28|  management|  single| tertiary|     no|    447|    yes| yes|unknown|  5|  may|     217|       1|   -1|       0| unknown| no|\n",
      "| 42|entrepreneur|divorced| tertiary|    yes|      2|    yes|  no|unknown|  5|  may|     380|       1|   -1|       0| unknown| no|\n",
      "| 58|     retired| married|  primary|     no|    121|    yes|  no|unknown|  5|  may|      50|       1|   -1|       0| unknown| no|\n",
      "| 43|  technician|  single|secondary|     no|    593|    yes|  no|unknown|  5|  may|      55|       1|   -1|       0| unknown| no|\n",
      "| 41|      admin.|divorced|secondary|     no|    270|    yes|  no|unknown|  5|  may|     222|       1|   -1|       0| unknown| no|\n",
      "| 29|      admin.|  single|secondary|     no|    390|    yes|  no|unknown|  5|  may|     137|       1|   -1|       0| unknown| no|\n",
      "| 53|  technician| married|secondary|     no|      6|    yes|  no|unknown|  5|  may|     517|       1|   -1|       0| unknown| no|\n",
      "| 58|  technician| married|  unknown|     no|     71|    yes|  no|unknown|  5|  may|      71|       1|   -1|       0| unknown| no|\n",
      "| 57|    services| married|secondary|     no|    162|    yes|  no|unknown|  5|  may|     174|       1|   -1|       0| unknown| no|\n",
      "| 51|     retired| married|  primary|     no|    229|    yes|  no|unknown|  5|  may|     353|       1|   -1|       0| unknown| no|\n",
      "| 45|      admin.|  single|  unknown|     no|     13|    yes|  no|unknown|  5|  may|      98|       1|   -1|       0| unknown| no|\n",
      "| 57| blue-collar| married|  primary|     no|     52|    yes|  no|unknown|  5|  may|      38|       1|   -1|       0| unknown| no|\n",
      "| 60|     retired| married|  primary|     no|     60|    yes|  no|unknown|  5|  may|     219|       1|   -1|       0| unknown| no|\n",
      "| 33|    services| married|secondary|     no|      0|    yes|  no|unknown|  5|  may|      54|       1|   -1|       0| unknown| no|\n",
      "+---+------------+--------+---------+-------+-------+-------+----+-------+---+-----+--------+--------+-----+--------+--------+---+\n",
      "only showing top 20 rows\n",
      "\n"
     ]
    }
   ],
   "source": [
    "filename = \"./data/bank-full.csv\"\n",
    "data = spark.read.csv(filename, header=True, inferSchema=True, sep=\";\")\n",
    "data.show()"
   ]
  },
  {
   "cell_type": "code",
   "execution_count": 4,
   "metadata": {},
   "outputs": [],
   "source": [
    "# string -> index\n",
    "from pyspark.ml.feature import StringIndexer\n",
    "default_index = StringIndexer(inputCol=\"default\", outputCol=\"default_index\")\n",
    "data1 = default_index.fit(data).transform(data)"
   ]
  },
  {
   "cell_type": "code",
   "execution_count": 6,
   "metadata": {},
   "outputs": [
    {
     "name": "stdout",
     "output_type": "stream",
     "text": [
      "+---+------------+--------+---------+-------+-------+-------+----+-------+---+-----+--------+--------+-----+--------+--------+---+-------------+\n",
      "|age|         job| marital|education|default|balance|housing|loan|contact|day|month|duration|campaign|pdays|previous|poutcome|  y|default_index|\n",
      "+---+------------+--------+---------+-------+-------+-------+----+-------+---+-----+--------+--------+-----+--------+--------+---+-------------+\n",
      "| 58|  management| married| tertiary|     no|   2143|    yes|  no|unknown|  5|  may|     261|       1|   -1|       0| unknown| no|          0.0|\n",
      "| 44|  technician|  single|secondary|     no|     29|    yes|  no|unknown|  5|  may|     151|       1|   -1|       0| unknown| no|          0.0|\n",
      "| 33|entrepreneur| married|secondary|     no|      2|    yes| yes|unknown|  5|  may|      76|       1|   -1|       0| unknown| no|          0.0|\n",
      "| 47| blue-collar| married|  unknown|     no|   1506|    yes|  no|unknown|  5|  may|      92|       1|   -1|       0| unknown| no|          0.0|\n",
      "| 33|     unknown|  single|  unknown|     no|      1|     no|  no|unknown|  5|  may|     198|       1|   -1|       0| unknown| no|          0.0|\n",
      "| 35|  management| married| tertiary|     no|    231|    yes|  no|unknown|  5|  may|     139|       1|   -1|       0| unknown| no|          0.0|\n",
      "| 28|  management|  single| tertiary|     no|    447|    yes| yes|unknown|  5|  may|     217|       1|   -1|       0| unknown| no|          0.0|\n",
      "| 42|entrepreneur|divorced| tertiary|    yes|      2|    yes|  no|unknown|  5|  may|     380|       1|   -1|       0| unknown| no|          1.0|\n",
      "| 58|     retired| married|  primary|     no|    121|    yes|  no|unknown|  5|  may|      50|       1|   -1|       0| unknown| no|          0.0|\n",
      "| 43|  technician|  single|secondary|     no|    593|    yes|  no|unknown|  5|  may|      55|       1|   -1|       0| unknown| no|          0.0|\n",
      "| 41|      admin.|divorced|secondary|     no|    270|    yes|  no|unknown|  5|  may|     222|       1|   -1|       0| unknown| no|          0.0|\n",
      "| 29|      admin.|  single|secondary|     no|    390|    yes|  no|unknown|  5|  may|     137|       1|   -1|       0| unknown| no|          0.0|\n",
      "| 53|  technician| married|secondary|     no|      6|    yes|  no|unknown|  5|  may|     517|       1|   -1|       0| unknown| no|          0.0|\n",
      "| 58|  technician| married|  unknown|     no|     71|    yes|  no|unknown|  5|  may|      71|       1|   -1|       0| unknown| no|          0.0|\n",
      "| 57|    services| married|secondary|     no|    162|    yes|  no|unknown|  5|  may|     174|       1|   -1|       0| unknown| no|          0.0|\n",
      "| 51|     retired| married|  primary|     no|    229|    yes|  no|unknown|  5|  may|     353|       1|   -1|       0| unknown| no|          0.0|\n",
      "| 45|      admin.|  single|  unknown|     no|     13|    yes|  no|unknown|  5|  may|      98|       1|   -1|       0| unknown| no|          0.0|\n",
      "| 57| blue-collar| married|  primary|     no|     52|    yes|  no|unknown|  5|  may|      38|       1|   -1|       0| unknown| no|          0.0|\n",
      "| 60|     retired| married|  primary|     no|     60|    yes|  no|unknown|  5|  may|     219|       1|   -1|       0| unknown| no|          0.0|\n",
      "| 33|    services| married|secondary|     no|      0|    yes|  no|unknown|  5|  may|      54|       1|   -1|       0| unknown| no|          0.0|\n",
      "+---+------------+--------+---------+-------+-------+-------+----+-------+---+-----+--------+--------+-----+--------+--------+---+-------------+\n",
      "only showing top 20 rows\n",
      "\n"
     ]
    }
   ],
   "source": [
    "data1.show()"
   ]
  },
  {
   "cell_type": "code",
   "execution_count": 7,
   "metadata": {},
   "outputs": [
    {
     "name": "stdout",
     "output_type": "stream",
     "text": [
      "+---+------------+--------+---------+-------+-------+-------+----+-------+---+-----+--------+--------+-----+--------+--------+---+-------------+---+\n",
      "|age|         job| marital|education|default|balance|housing|loan|contact|day|month|duration|campaign|pdays|previous|poutcome|  y|default_index| y1|\n",
      "+---+------------+--------+---------+-------+-------+-------+----+-------+---+-----+--------+--------+-----+--------+--------+---+-------------+---+\n",
      "| 58|  management| married| tertiary|     no|   2143|    yes|  no|unknown|  5|  may|     261|       1|   -1|       0| unknown| no|          0.0|0.0|\n",
      "| 44|  technician|  single|secondary|     no|     29|    yes|  no|unknown|  5|  may|     151|       1|   -1|       0| unknown| no|          0.0|0.0|\n",
      "| 33|entrepreneur| married|secondary|     no|      2|    yes| yes|unknown|  5|  may|      76|       1|   -1|       0| unknown| no|          0.0|0.0|\n",
      "| 47| blue-collar| married|  unknown|     no|   1506|    yes|  no|unknown|  5|  may|      92|       1|   -1|       0| unknown| no|          0.0|0.0|\n",
      "| 33|     unknown|  single|  unknown|     no|      1|     no|  no|unknown|  5|  may|     198|       1|   -1|       0| unknown| no|          0.0|0.0|\n",
      "| 35|  management| married| tertiary|     no|    231|    yes|  no|unknown|  5|  may|     139|       1|   -1|       0| unknown| no|          0.0|0.0|\n",
      "| 28|  management|  single| tertiary|     no|    447|    yes| yes|unknown|  5|  may|     217|       1|   -1|       0| unknown| no|          0.0|0.0|\n",
      "| 42|entrepreneur|divorced| tertiary|    yes|      2|    yes|  no|unknown|  5|  may|     380|       1|   -1|       0| unknown| no|          1.0|0.0|\n",
      "| 58|     retired| married|  primary|     no|    121|    yes|  no|unknown|  5|  may|      50|       1|   -1|       0| unknown| no|          0.0|0.0|\n",
      "| 43|  technician|  single|secondary|     no|    593|    yes|  no|unknown|  5|  may|      55|       1|   -1|       0| unknown| no|          0.0|0.0|\n",
      "| 41|      admin.|divorced|secondary|     no|    270|    yes|  no|unknown|  5|  may|     222|       1|   -1|       0| unknown| no|          0.0|0.0|\n",
      "| 29|      admin.|  single|secondary|     no|    390|    yes|  no|unknown|  5|  may|     137|       1|   -1|       0| unknown| no|          0.0|0.0|\n",
      "| 53|  technician| married|secondary|     no|      6|    yes|  no|unknown|  5|  may|     517|       1|   -1|       0| unknown| no|          0.0|0.0|\n",
      "| 58|  technician| married|  unknown|     no|     71|    yes|  no|unknown|  5|  may|      71|       1|   -1|       0| unknown| no|          0.0|0.0|\n",
      "| 57|    services| married|secondary|     no|    162|    yes|  no|unknown|  5|  may|     174|       1|   -1|       0| unknown| no|          0.0|0.0|\n",
      "| 51|     retired| married|  primary|     no|    229|    yes|  no|unknown|  5|  may|     353|       1|   -1|       0| unknown| no|          0.0|0.0|\n",
      "| 45|      admin.|  single|  unknown|     no|     13|    yes|  no|unknown|  5|  may|      98|       1|   -1|       0| unknown| no|          0.0|0.0|\n",
      "| 57| blue-collar| married|  primary|     no|     52|    yes|  no|unknown|  5|  may|      38|       1|   -1|       0| unknown| no|          0.0|0.0|\n",
      "| 60|     retired| married|  primary|     no|     60|    yes|  no|unknown|  5|  may|     219|       1|   -1|       0| unknown| no|          0.0|0.0|\n",
      "| 33|    services| married|secondary|     no|      0|    yes|  no|unknown|  5|  may|      54|       1|   -1|       0| unknown| no|          0.0|0.0|\n",
      "+---+------------+--------+---------+-------+-------+-------+----+-------+---+-----+--------+--------+-----+--------+--------+---+-------------+---+\n",
      "only showing top 20 rows\n",
      "\n"
     ]
    }
   ],
   "source": [
    "# 目的変数\n",
    "from pyspark.sql.functions import lit, when, col\n",
    "data2 = data1.withColumn(\"y1\", when(col(\"y\")==\"yes\", lit(1.0)).otherwise(lit(0.0)))\n",
    "data2.show()"
   ]
  },
  {
   "cell_type": "code",
   "execution_count": 11,
   "metadata": {},
   "outputs": [],
   "source": [
    "use_df = data2.select([\"age\", \"balance\", \"day\", \"duration\", \"campaign\", \"pdays\", \"previous\", \"default_index\", \"y1\"])"
   ]
  },
  {
   "cell_type": "code",
   "execution_count": 12,
   "metadata": {},
   "outputs": [],
   "source": [
    "target = \"y1\"\n",
    "features = use_df.columns"
   ]
  },
  {
   "cell_type": "code",
   "execution_count": 13,
   "metadata": {},
   "outputs": [],
   "source": [
    "features.remove(target)"
   ]
  },
  {
   "cell_type": "code",
   "execution_count": 15,
   "metadata": {},
   "outputs": [],
   "source": [
    "# データ作成（assembler）\n",
    "from pyspark.ml.feature import VectorAssembler\n",
    "assemble = VectorAssembler(inputCols=features, outputCol=\"features\")\n",
    "df = assemble.transform(use_df)"
   ]
  },
  {
   "cell_type": "code",
   "execution_count": 16,
   "metadata": {},
   "outputs": [
    {
     "name": "stdout",
     "output_type": "stream",
     "text": [
      "+---+-------+---+--------+--------+-----+--------+-------------+---+--------------------+\n",
      "|age|balance|day|duration|campaign|pdays|previous|default_index| y1|            features|\n",
      "+---+-------+---+--------+--------+-----+--------+-------------+---+--------------------+\n",
      "| 58|   2143|  5|     261|       1|   -1|       0|          0.0|0.0|[58.0,2143.0,5.0,...|\n",
      "| 44|     29|  5|     151|       1|   -1|       0|          0.0|0.0|[44.0,29.0,5.0,15...|\n",
      "| 33|      2|  5|      76|       1|   -1|       0|          0.0|0.0|[33.0,2.0,5.0,76....|\n",
      "| 47|   1506|  5|      92|       1|   -1|       0|          0.0|0.0|[47.0,1506.0,5.0,...|\n",
      "| 33|      1|  5|     198|       1|   -1|       0|          0.0|0.0|[33.0,1.0,5.0,198...|\n",
      "| 35|    231|  5|     139|       1|   -1|       0|          0.0|0.0|[35.0,231.0,5.0,1...|\n",
      "| 28|    447|  5|     217|       1|   -1|       0|          0.0|0.0|[28.0,447.0,5.0,2...|\n",
      "| 42|      2|  5|     380|       1|   -1|       0|          1.0|0.0|[42.0,2.0,5.0,380...|\n",
      "| 58|    121|  5|      50|       1|   -1|       0|          0.0|0.0|[58.0,121.0,5.0,5...|\n",
      "| 43|    593|  5|      55|       1|   -1|       0|          0.0|0.0|[43.0,593.0,5.0,5...|\n",
      "| 41|    270|  5|     222|       1|   -1|       0|          0.0|0.0|[41.0,270.0,5.0,2...|\n",
      "| 29|    390|  5|     137|       1|   -1|       0|          0.0|0.0|[29.0,390.0,5.0,1...|\n",
      "| 53|      6|  5|     517|       1|   -1|       0|          0.0|0.0|[53.0,6.0,5.0,517...|\n",
      "| 58|     71|  5|      71|       1|   -1|       0|          0.0|0.0|[58.0,71.0,5.0,71...|\n",
      "| 57|    162|  5|     174|       1|   -1|       0|          0.0|0.0|[57.0,162.0,5.0,1...|\n",
      "| 51|    229|  5|     353|       1|   -1|       0|          0.0|0.0|[51.0,229.0,5.0,3...|\n",
      "| 45|     13|  5|      98|       1|   -1|       0|          0.0|0.0|[45.0,13.0,5.0,98...|\n",
      "| 57|     52|  5|      38|       1|   -1|       0|          0.0|0.0|[57.0,52.0,5.0,38...|\n",
      "| 60|     60|  5|     219|       1|   -1|       0|          0.0|0.0|[60.0,60.0,5.0,21...|\n",
      "| 33|      0|  5|      54|       1|   -1|       0|          0.0|0.0|[33.0,0.0,5.0,54....|\n",
      "+---+-------+---+--------+--------+-----+--------+-------------+---+--------------------+\n",
      "only showing top 20 rows\n",
      "\n"
     ]
    }
   ],
   "source": [
    "df.show()"
   ]
  },
  {
   "cell_type": "code",
   "execution_count": 17,
   "metadata": {},
   "outputs": [],
   "source": [
    "train_df, test_df = df.randomSplit([0.7, 0.3], seed=123)"
   ]
  },
  {
   "cell_type": "code",
   "execution_count": 18,
   "metadata": {},
   "outputs": [],
   "source": [
    "from pyspark.ml.classification import RandomForestClassifier\n",
    "clf = RandomForestClassifier(featuresCol=\"features\", labelCol=\"y1\", impurity=\"gini\")"
   ]
  },
  {
   "cell_type": "code",
   "execution_count": 19,
   "metadata": {},
   "outputs": [
    {
     "name": "stderr",
     "output_type": "stream",
     "text": [
      "                                                                                \r"
     ]
    }
   ],
   "source": [
    "clf_model = clf.fit(train_df)"
   ]
  },
  {
   "cell_type": "code",
   "execution_count": 22,
   "metadata": {},
   "outputs": [
    {
     "data": {
      "text/plain": [
       "[('age', 0.10006861036286847),\n",
       " ('balance', 0.024362306752732467),\n",
       " ('day', 0.01662066988789542),\n",
       " ('duration', 0.671691969594471),\n",
       " ('campaign', 0.006004405292117734),\n",
       " ('pdays', 0.11201904043404858),\n",
       " ('previous', 0.0690181810181322),\n",
       " ('default_index', 0.00021481665773419716)]"
      ]
     },
     "execution_count": 22,
     "metadata": {},
     "output_type": "execute_result"
    }
   ],
   "source": [
    "list(zip(features, clf_model.featureImportances))"
   ]
  },
  {
   "cell_type": "code",
   "execution_count": 23,
   "metadata": {},
   "outputs": [],
   "source": [
    "pred_train = clf_model.transform(train_df)"
   ]
  },
  {
   "cell_type": "code",
   "execution_count": 24,
   "metadata": {},
   "outputs": [
    {
     "name": "stdout",
     "output_type": "stream",
     "text": [
      "+---+-------+---+--------+--------+-----+--------+-------------+---+--------------------+--------------------+--------------------+----------+\n",
      "|age|balance|day|duration|campaign|pdays|previous|default_index| y1|            features|       rawPrediction|         probability|prediction|\n",
      "+---+-------+---+--------+--------+-----+--------+-------------+---+--------------------+--------------------+--------------------+----------+\n",
      "| 18|      3| 25|     130|       2|   -1|       0|          0.0|1.0|[18.0,3.0,25.0,13...|[18.9350935406557...|[0.94675467703278...|       0.0|\n",
      "| 18|      5| 24|     143|       2|   -1|       0|          0.0|0.0|[18.0,5.0,24.0,14...|[18.9350935406557...|[0.94675467703278...|       0.0|\n",
      "| 18|    108|  8|     169|       1|   -1|       0|          0.0|1.0|[18.0,108.0,8.0,1...|[18.8102286095655...|[0.94051143047827...|       0.0|\n",
      "| 18|    108|  9|      92|       1|  183|       1|          0.0|1.0|[18.0,108.0,9.0,9...|[17.9811525129042...|[0.89905762564521...|       0.0|\n",
      "| 18|    108| 10|     167|       1|   -1|       0|          0.0|1.0|[18.0,108.0,10.0,...|[18.8102286095655...|[0.94051143047827...|       0.0|\n",
      "| 18|    348|  5|     443|       4|   -1|       0|          0.0|1.0|[18.0,348.0,5.0,4...|[18.6246969830520...|[0.93123484915260...|       0.0|\n",
      "| 18|    438|  1|     425|       1|   -1|       0|          0.0|0.0|[18.0,438.0,1.0,4...|[18.3055340116190...|[0.91527670058095...|       0.0|\n",
      "| 18|    608| 13|     210|       1|   93|       1|          0.0|1.0|[18.0,608.0,13.0,...|[12.8927042984075...|[0.64463521492037...|       0.0|\n",
      "| 18|   1944| 10|     122|       3|   -1|       0|          0.0|0.0|[18.0,1944.0,10.0...|[18.8034778612817...|[0.94017389306408...|       0.0|\n",
      "| 19|      4|  3|     114|       1|   -1|       0|          0.0|0.0|[19.0,4.0,3.0,114...|[18.8711356680848...|[0.94355678340424...|       0.0|\n",
      "| 19|     27|  5|      86|      12|   -1|       0|          0.0|0.0|[19.0,27.0,5.0,86...|[18.9350935406557...|[0.94675467703278...|       0.0|\n",
      "| 19|     55|  6|      89|       2|  193|       1|          0.0|0.0|[19.0,55.0,6.0,89...|[17.9811525129042...|[0.89905762564521...|       0.0|\n",
      "| 19|     56| 12|     246|       1|   -1|       0|          0.0|0.0|[19.0,56.0,12.0,2...|[18.7408301493802...|[0.93704150746901...|       0.0|\n",
      "| 19|     88|  8|     191|       1|   -1|       0|          0.0|0.0|[19.0,88.0,8.0,19...|[18.7408301493802...|[0.93704150746901...|       0.0|\n",
      "| 19|     96| 23|     106|       3|   -1|       0|          0.0|0.0|[19.0,96.0,23.0,1...|[18.9350935406557...|[0.94675467703278...|       0.0|\n",
      "| 19|    103| 10|     104|       2|   -1|       0|          0.0|1.0|[19.0,103.0,10.0,...|[18.9350935406557...|[0.94675467703278...|       0.0|\n",
      "| 19|    103| 15|      96|       2|   97|       2|          0.0|0.0|[19.0,103.0,15.0,...|[17.4710572725730...|[0.87355286362865...|       0.0|\n",
      "| 19|    108|  9|     273|       2|  182|       1|          0.0|1.0|[19.0,108.0,9.0,2...|[15.7770257991582...|[0.78885128995791...|       0.0|\n",
      "| 19|    108| 10|     168|       1|  182|       2|          0.0|1.0|[19.0,108.0,10.0,...|[17.3623213439302...|[0.86811606719651...|       0.0|\n",
      "| 19|    134| 27|     271|       2|   -1|       0|          0.0|1.0|[19.0,134.0,27.0,...|[18.7136010168368...|[0.93568005084184...|       0.0|\n",
      "+---+-------+---+--------+--------+-----+--------+-------------+---+--------------------+--------------------+--------------------+----------+\n",
      "only showing top 20 rows\n",
      "\n"
     ]
    }
   ],
   "source": [
    "pred_train.show()"
   ]
  },
  {
   "cell_type": "code",
   "execution_count": 25,
   "metadata": {},
   "outputs": [
    {
     "data": {
      "text/plain": [
       "0.8518666505476066"
      ]
     },
     "execution_count": 25,
     "metadata": {},
     "output_type": "execute_result"
    }
   ],
   "source": [
    "from pyspark.ml.evaluation import BinaryClassificationEvaluator\n",
    "evaluator = BinaryClassificationEvaluator(labelCol=\"y1\")\n",
    "AUC = evaluator.evaluate(pred_train)\n",
    "AUC"
   ]
  },
  {
   "cell_type": "code",
   "execution_count": 26,
   "metadata": {},
   "outputs": [
    {
     "name": "stdout",
     "output_type": "stream",
     "text": [
      "+---+-------+---+--------+--------+-----+--------+-------------+---+--------------------+--------------------+--------------------+----------+\n",
      "|age|balance|day|duration|campaign|pdays|previous|default_index| y1|            features|       rawPrediction|         probability|prediction|\n",
      "+---+-------+---+--------+--------+-----+--------+-------------+---+--------------------+--------------------+--------------------+----------+\n",
      "| 18|     35| 21|     104|       2|   -1|       0|          0.0|0.0|[18.0,35.0,21.0,1...|[18.9350935406557...|[0.94675467703278...|       0.0|\n",
      "| 18|    156|  4|     298|       2|   82|       4|          0.0|0.0|[18.0,156.0,4.0,2...|[13.0024937648971...|[0.65012468824485...|       0.0|\n",
      "| 18|    608| 12|     267|       1|   -1|       0|          0.0|1.0|[18.0,608.0,12.0,...|[18.5607391104811...|[0.92803695552405...|       0.0|\n",
      "| 19|      0|  4|      72|       4|   -1|       0|          0.0|0.0|[19.0,0.0,4.0,72....|[18.9350935406557...|[0.94675467703278...|       0.0|\n",
      "| 19|      0| 11|     123|       3|   -1|       0|          0.0|0.0|[19.0,0.0,11.0,12...|[18.9350935406557...|[0.94675467703278...|       0.0|\n",
      "| 19|     60| 14|     253|       1|   -1|       0|          0.0|0.0|[19.0,60.0,14.0,2...|[18.6496431442659...|[0.93248215721329...|       0.0|\n",
      "| 19|    103| 18|     177|       2|   95|       4|          0.0|0.0|[19.0,103.0,18.0,...|[15.2303295061054...|[0.76151647530527...|       0.0|\n",
      "| 19|    291|  5|     291|       5|   -1|       0|          0.0|0.0|[19.0,291.0,5.0,2...|[18.6026758444701...|[0.93013379222350...|       0.0|\n",
      "| 19|    302| 16|     205|       1|   -1|       0|          0.0|1.0|[19.0,302.0,16.0,...|[18.7408301493802...|[0.93704150746901...|       0.0|\n",
      "| 19|    372|  8|     444|       3|   -1|       0|          0.0|1.0|[19.0,372.0,8.0,4...|[18.6246969830520...|[0.93123484915260...|       0.0|\n",
      "| 19|    394|  5|     327|       3|   -1|       0|          0.0|1.0|[19.0,394.0,5.0,3...|[18.6246969830520...|[0.93123484915260...|       0.0|\n",
      "| 19|    424| 30|     121|       3|  195|       2|          0.0|0.0|[19.0,424.0,30.0,...|[17.7156803858141...|[0.88578401929070...|       0.0|\n",
      "| 19|    527|  4|     154|       3|   -1|       0|          0.0|0.0|[19.0,527.0,4.0,1...|[18.9192848994977...|[0.94596424497488...|       0.0|\n",
      "| 19|    626| 15|     117|       1|   -1|       0|          0.0|0.0|[19.0,626.0,15.0,...|[18.8553270269267...|[0.94276635134633...|       0.0|\n",
      "| 19|   5368|  4|      77|       6|   -1|       0|          0.0|0.0|[19.0,5368.0,4.0,...|[18.8034778612817...|[0.94017389306408...|       0.0|\n",
      "| 20|   -322| 20|      73|       4|   -1|       0|          0.0|0.0|[20.0,-322.0,20.0...|[18.9565043359092...|[0.94782521679546...|       0.0|\n",
      "| 20|     67| 19|     387|       1|   -1|       0|          0.0|0.0|[20.0,67.0,19.0,3...|[18.5387179718992...|[0.92693589859496...|       0.0|\n",
      "| 20|     88| 21|     621|       1|  181|       4|          0.0|0.0|[20.0,88.0,21.0,6...|[11.8064356004783...|[0.59032178002391...|       0.0|\n",
      "| 20|    130|  4|      75|       3|   -1|       0|          0.0|0.0|[20.0,130.0,4.0,7...|[18.9350935406557...|[0.94675467703278...|       0.0|\n",
      "| 20|    130| 11|      88|       1|   99|       3|          0.0|0.0|[20.0,130.0,11.0,...|[17.9811525129042...|[0.89905762564521...|       0.0|\n",
      "+---+-------+---+--------+--------+-----+--------+-------------+---+--------------------+--------------------+--------------------+----------+\n",
      "only showing top 20 rows\n",
      "\n"
     ]
    }
   ],
   "source": [
    "pred_test = clf_model.transform(test_df)\n",
    "pred_test.show()"
   ]
  },
  {
   "cell_type": "code",
   "execution_count": 27,
   "metadata": {},
   "outputs": [
    {
     "data": {
      "text/plain": [
       "13676"
      ]
     },
     "execution_count": 27,
     "metadata": {},
     "output_type": "execute_result"
    }
   ],
   "source": [
    "pred_test.count()"
   ]
  },
  {
   "cell_type": "code",
   "execution_count": 28,
   "metadata": {},
   "outputs": [
    {
     "data": {
      "text/plain": [
       "0.8503911091045168"
      ]
     },
     "execution_count": 28,
     "metadata": {},
     "output_type": "execute_result"
    }
   ],
   "source": [
    "from pyspark.ml.evaluation import BinaryClassificationEvaluator\n",
    "evaluator = BinaryClassificationEvaluator(labelCol=\"y1\")\n",
    "AUC = evaluator.evaluate(pred_test)\n",
    "AUC"
   ]
  },
  {
   "cell_type": "code",
   "execution_count": null,
   "metadata": {},
   "outputs": [],
   "source": []
  }
 ],
 "metadata": {
  "kernelspec": {
   "display_name": ".venv",
   "language": "python",
   "name": "python3"
  },
  "language_info": {
   "codemirror_mode": {
    "name": "ipython",
    "version": 3
   },
   "file_extension": ".py",
   "mimetype": "text/x-python",
   "name": "python",
   "nbconvert_exporter": "python",
   "pygments_lexer": "ipython3",
   "version": "3.11.1"
  },
  "orig_nbformat": 4,
  "vscode": {
   "interpreter": {
    "hash": "f4b93a7f9a03afd00a5d51764b8a683e41b5ab7524edcfd42ab2bd3fa9711464"
   }
  }
 },
 "nbformat": 4,
 "nbformat_minor": 2
}
