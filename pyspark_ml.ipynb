{
 "cells": [
  {
   "cell_type": "code",
   "execution_count": 15,
   "metadata": {},
   "outputs": [],
   "source": [
    "from pyspark.sql import SparkSession\n",
    "from pyspark.sql.types import StructType, StructField, StringType, IntegerType, FloatType, DateType\n",
    "\n",
    "import pandas"
   ]
  },
  {
   "attachments": {},
   "cell_type": "markdown",
   "metadata": {},
   "source": [
    "## 全データを使ったモデリング（流れの確認）\n",
    "- 特徴量には数値の絡むのみ仕様する\n",
    "- 標準化は行わない\n",
    "- one-hot encodingは行わない\n",
    "- 重複行などのデータチェックは行わない"
   ]
  },
  {
   "cell_type": "code",
   "execution_count": 16,
   "metadata": {},
   "outputs": [],
   "source": [
    "spark = SparkSession.builder.appName('Data_wrangling').getOrCreate()"
   ]
  },
  {
   "cell_type": "code",
   "execution_count": 17,
   "metadata": {},
   "outputs": [],
   "source": [
    "data = spark.read.format(\"csv\")\\\n",
    "    .option(\"inferSchema\", \"True\") \\\n",
    "    .option(\"header\", \"True\") \\\n",
    "    .option(\"sep\", \";\") \\\n",
    "    .load(\"./data/bank-full.csv\")"
   ]
  },
  {
   "cell_type": "code",
   "execution_count": 18,
   "metadata": {},
   "outputs": [
    {
     "name": "stderr",
     "output_type": "stream",
     "text": [
      "[Stage 16:=============================>                            (1 + 1) / 2]\r"
     ]
    },
    {
     "name": "stdout",
     "output_type": "stream",
     "text": [
      "+-------+------------------+-------+--------+---------+-------+------------------+-------+-----+--------+-----------------+-----+-----------------+------------------+------------------+------------------+--------+-----+\n",
      "|summary|               age|    job| marital|education|default|           balance|housing| loan| contact|              day|month|         duration|          campaign|             pdays|          previous|poutcome|    y|\n",
      "+-------+------------------+-------+--------+---------+-------+------------------+-------+-----+--------+-----------------+-----+-----------------+------------------+------------------+------------------+--------+-----+\n",
      "|  count|             45211|  45211|   45211|    45211|  45211|             45211|  45211|45211|   45211|            45211|45211|            45211|             45211|             45211|             45211|   45211|45211|\n",
      "|   mean| 40.93621021432837|   null|    null|     null|   null|1362.2720576850766|   null| null|    null|15.80641879188693| null|258.1630797814691| 2.763840658246887| 40.19782796222158|0.5803233726305546|    null| null|\n",
      "| stddev|10.618762040975401|   null|    null|     null|   null|3044.7658291685243|   null| null|    null|8.322476153044589| null|257.5278122651712|3.0980208832791813|100.12874599059818|2.3034410449312164|    null| null|\n",
      "|    min|                18| admin.|divorced|  primary|     no|             -8019|     no|   no|cellular|                1|  apr|                0|                 1|                -1|                 0| failure|   no|\n",
      "|    25%|                33|   null|    null|     null|   null|                72|   null| null|    null|                8| null|              103|                 1|                -1|                 0|    null| null|\n",
      "|    50%|                39|   null|    null|     null|   null|               448|   null| null|    null|               16| null|              180|                 2|                -1|                 0|    null| null|\n",
      "|    75%|                48|   null|    null|     null|   null|              1427|   null| null|    null|               21| null|              319|                 3|                -1|                 0|    null| null|\n",
      "|    max|                95|unknown|  single|  unknown|    yes|            102127|    yes|  yes| unknown|               31|  sep|             4918|                63|               871|               275| unknown|  yes|\n",
      "+-------+------------------+-------+--------+---------+-------+------------------+-------+-----+--------+-----------------+-----+-----------------+------------------+------------------+------------------+--------+-----+\n",
      "\n"
     ]
    },
    {
     "name": "stderr",
     "output_type": "stream",
     "text": [
      "                                                                                \r"
     ]
    }
   ],
   "source": [
    "data.summary().show()"
   ]
  },
  {
   "cell_type": "code",
   "execution_count": 19,
   "metadata": {},
   "outputs": [],
   "source": [
    "# データ作成\n",
    "linear_df = data.select([\"age\", \"balance\", \"campaign\"])\n",
    "target = \"balance\"\n",
    "features = [\"age\", \"campaign\"]\n",
    "train_df = data.select(features)"
   ]
  },
  {
   "cell_type": "code",
   "execution_count": 20,
   "metadata": {},
   "outputs": [],
   "source": [
    "# データ作成ステージ\n",
    "from pyspark.ml.feature import VectorAssembler\n",
    "assemble = VectorAssembler(inputCols=features, outputCol=\"features\")"
   ]
  },
  {
   "cell_type": "code",
   "execution_count": 21,
   "metadata": {},
   "outputs": [],
   "source": [
    "# 線形重回帰モデリングステージ\n",
    "from pyspark.ml.regression import LinearRegression\n",
    "clf = LinearRegression(featuresCol=\"features\", labelCol=\"balance\")"
   ]
  },
  {
   "cell_type": "code",
   "execution_count": 22,
   "metadata": {},
   "outputs": [
    {
     "name": "stdout",
     "output_type": "stream",
     "text": [
      "23/02/26 23:27:31 WARN Instrumentation: [fa46899b] regParam is zero, which might cause numerical instability and overfitting.\n"
     ]
    }
   ],
   "source": [
    "# パイプラインの設定：ステージの登録\n",
    "from pyspark.ml.pipeline import Pipeline\n",
    "pipeline = Pipeline(stages=[assemble, clf])\n",
    "model = pipeline.fit(linear_df)"
   ]
  },
  {
   "cell_type": "code",
   "execution_count": 24,
   "metadata": {},
   "outputs": [
    {
     "name": "stdout",
     "output_type": "stream",
     "text": [
      "+---+-------+--------+----------+------------------+\n",
      "|age|balance|campaign|  features|        prediction|\n",
      "+---+-------+--------+----------+------------------+\n",
      "| 58|   2143|       1|[58.0,1.0]|1867.1309208276969|\n",
      "| 44|     29|       1|[44.0,1.0]| 1474.315799038966|\n",
      "| 33|      2|       1|[33.0,1.0]| 1165.675346204963|\n",
      "| 47|   1506|       1|[47.0,1.0]| 1558.490467993694|\n",
      "| 33|      1|       1|[33.0,1.0]| 1165.675346204963|\n",
      "| 35|    231|       1|[35.0,1.0]|1221.7917921747817|\n",
      "| 28|    447|       1|[28.0,1.0]|1025.3842312804163|\n",
      "| 42|      2|       1|[42.0,1.0]|1418.1993530691473|\n",
      "| 58|    121|       1|[58.0,1.0]|1867.1309208276969|\n",
      "| 43|    593|       1|[43.0,1.0]|1446.2575760540565|\n",
      "| 41|    270|       1|[41.0,1.0]|1390.1411300842378|\n",
      "| 29|    390|       1|[29.0,1.0]|1053.4424542653255|\n",
      "| 53|      6|       1|[53.0,1.0]|1726.8398059031501|\n",
      "| 58|     71|       1|[58.0,1.0]|1867.1309208276969|\n",
      "| 57|    162|       1|[57.0,1.0]|1839.0726978427874|\n",
      "| 51|    229|       1|[51.0,1.0]|1670.7233599333313|\n",
      "| 45|     13|       1|[45.0,1.0]|1502.3740220238753|\n",
      "| 57|     52|       1|[57.0,1.0]|1839.0726978427874|\n",
      "| 60|     60|       1|[60.0,1.0]|1923.2473667975155|\n",
      "| 33|      0|       1|[33.0,1.0]| 1165.675346204963|\n",
      "+---+-------+--------+----------+------------------+\n",
      "only showing top 20 rows\n",
      "\n"
     ]
    }
   ],
   "source": [
    "# パイプラインの実行\n",
    "df = model.transform(linear_df)\n",
    "df.show()"
   ]
  },
  {
   "cell_type": "code",
   "execution_count": 27,
   "metadata": {},
   "outputs": [
    {
     "name": "stdout",
     "output_type": "stream",
     "text": [
      "[28.058222984909357,-14.785487706439227]\n",
      "254.53947540939342\n"
     ]
    }
   ],
   "source": [
    "# 係数の確認\n",
    "print(model.stages[1].coefficients)\n",
    "# 切片の確認\n",
    "print(model.stages[1].intercept)"
   ]
  },
  {
   "cell_type": "code",
   "execution_count": null,
   "metadata": {},
   "outputs": [],
   "source": []
  }
 ],
 "metadata": {
  "kernelspec": {
   "display_name": ".venv",
   "language": "python",
   "name": "python3"
  },
  "language_info": {
   "codemirror_mode": {
    "name": "ipython",
    "version": 3
   },
   "file_extension": ".py",
   "mimetype": "text/x-python",
   "name": "python",
   "nbconvert_exporter": "python",
   "pygments_lexer": "ipython3",
   "version": "3.11.1"
  },
  "orig_nbformat": 4,
  "vscode": {
   "interpreter": {
    "hash": "f4b93a7f9a03afd00a5d51764b8a683e41b5ab7524edcfd42ab2bd3fa9711464"
   }
  }
 },
 "nbformat": 4,
 "nbformat_minor": 2
}
