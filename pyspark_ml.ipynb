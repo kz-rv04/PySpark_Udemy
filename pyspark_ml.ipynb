{
 "cells": [
  {
   "cell_type": "code",
   "execution_count": 24,
   "metadata": {},
   "outputs": [],
   "source": [
    "from pyspark.sql import SparkSession\n",
    "from pyspark.sql.types import StructType, StructField, StringType, IntegerType, FloatType, DateType\n",
    "\n",
    "import pandas as pd\n",
    "import numpy as np"
   ]
  },
  {
   "attachments": {},
   "cell_type": "markdown",
   "metadata": {},
   "source": [
    "## 全データを使ったモデリング（流れの確認）\n",
    "- 特徴量には数値の絡むのみ仕様する\n",
    "- 標準化は行わない\n",
    "- one-hot encodingは行わない\n",
    "- 重複行などのデータチェックは行わない"
   ]
  },
  {
   "cell_type": "code",
   "execution_count": 2,
   "metadata": {},
   "outputs": [
    {
     "name": "stderr",
     "output_type": "stream",
     "text": [
      "your 131072x1 screen size is bogus. expect trouble\n"
     ]
    },
    {
     "name": "stdout",
     "output_type": "stream",
     "text": [
      "23/03/11 20:00:19 WARN Utils: Your hostname, NONAME resolves to a loopback address: 127.0.1.1; using 172.18.233.170 instead (on interface eth0)\n",
      "23/03/11 20:00:19 WARN Utils: Set SPARK_LOCAL_IP if you need to bind to another address\n"
     ]
    },
    {
     "name": "stderr",
     "output_type": "stream",
     "text": [
      "Setting default log level to \"WARN\".\n",
      "To adjust logging level use sc.setLogLevel(newLevel). For SparkR, use setLogLevel(newLevel).\n"
     ]
    },
    {
     "name": "stdout",
     "output_type": "stream",
     "text": [
      "23/03/11 20:00:21 WARN NativeCodeLoader: Unable to load native-hadoop library for your platform... using builtin-java classes where applicable\n"
     ]
    }
   ],
   "source": [
    "spark = SparkSession.builder.appName('Data_wrangling').getOrCreate()"
   ]
  },
  {
   "cell_type": "code",
   "execution_count": 3,
   "metadata": {},
   "outputs": [],
   "source": [
    "data = spark.read.format(\"csv\")\\\n",
    "    .option(\"inferSchema\", \"True\") \\\n",
    "    .option(\"header\", \"True\") \\\n",
    "    .option(\"sep\", \";\") \\\n",
    "    .load(\"./data/bank-full.csv\")"
   ]
  },
  {
   "cell_type": "code",
   "execution_count": 4,
   "metadata": {},
   "outputs": [
    {
     "name": "stderr",
     "output_type": "stream",
     "text": [
      "[Stage 2:=============================>                             (1 + 1) / 2]\r"
     ]
    },
    {
     "name": "stdout",
     "output_type": "stream",
     "text": [
      "+-------+------------------+-------+--------+---------+-------+------------------+-------+-----+--------+-----------------+-----+-----------------+------------------+------------------+------------------+--------+-----+\n",
      "|summary|               age|    job| marital|education|default|           balance|housing| loan| contact|              day|month|         duration|          campaign|             pdays|          previous|poutcome|    y|\n",
      "+-------+------------------+-------+--------+---------+-------+------------------+-------+-----+--------+-----------------+-----+-----------------+------------------+------------------+------------------+--------+-----+\n",
      "|  count|             45211|  45211|   45211|    45211|  45211|             45211|  45211|45211|   45211|            45211|45211|            45211|             45211|             45211|             45211|   45211|45211|\n",
      "|   mean| 40.93621021432837|   null|    null|     null|   null|1362.2720576850766|   null| null|    null|15.80641879188693| null|258.1630797814691| 2.763840658246887| 40.19782796222158|0.5803233726305546|    null| null|\n",
      "| stddev|10.618762040975401|   null|    null|     null|   null|3044.7658291685243|   null| null|    null|8.322476153044589| null|257.5278122651712|3.0980208832791813|100.12874599059818|2.3034410449312164|    null| null|\n",
      "|    min|                18| admin.|divorced|  primary|     no|             -8019|     no|   no|cellular|                1|  apr|                0|                 1|                -1|                 0| failure|   no|\n",
      "|    25%|                33|   null|    null|     null|   null|                72|   null| null|    null|                8| null|              103|                 1|                -1|                 0|    null| null|\n",
      "|    50%|                39|   null|    null|     null|   null|               448|   null| null|    null|               16| null|              180|                 2|                -1|                 0|    null| null|\n",
      "|    75%|                48|   null|    null|     null|   null|              1427|   null| null|    null|               21| null|              319|                 3|                -1|                 0|    null| null|\n",
      "|    max|                95|unknown|  single|  unknown|    yes|            102127|    yes|  yes| unknown|               31|  sep|             4918|                63|               871|               275| unknown|  yes|\n",
      "+-------+------------------+-------+--------+---------+-------+------------------+-------+-----+--------+-----------------+-----+-----------------+------------------+------------------+------------------+--------+-----+\n",
      "\n"
     ]
    },
    {
     "name": "stderr",
     "output_type": "stream",
     "text": [
      "                                                                                \r"
     ]
    }
   ],
   "source": [
    "data.summary().show()"
   ]
  },
  {
   "cell_type": "code",
   "execution_count": 5,
   "metadata": {},
   "outputs": [],
   "source": [
    "# データ作成\n",
    "linear_df = data.select([\"age\", \"balance\", \"campaign\"])\n",
    "target = \"balance\"\n",
    "features = [\"age\", \"campaign\"]\n",
    "train_df = data.select(features)"
   ]
  },
  {
   "cell_type": "code",
   "execution_count": 6,
   "metadata": {},
   "outputs": [],
   "source": [
    "# データ作成ステージ\n",
    "from pyspark.ml.feature import VectorAssembler\n",
    "assemble = VectorAssembler(inputCols=features, outputCol=\"features\")"
   ]
  },
  {
   "cell_type": "code",
   "execution_count": 7,
   "metadata": {},
   "outputs": [],
   "source": [
    "# 線形重回帰モデリングステージ\n",
    "from pyspark.ml.regression import LinearRegression\n",
    "clf = LinearRegression(featuresCol=\"features\", labelCol=\"balance\")"
   ]
  },
  {
   "cell_type": "code",
   "execution_count": 8,
   "metadata": {},
   "outputs": [
    {
     "name": "stdout",
     "output_type": "stream",
     "text": [
      "23/03/11 20:00:38 WARN Instrumentation: [726abfcc] regParam is zero, which might cause numerical instability and overfitting.\n",
      "23/03/11 20:00:39 WARN InstanceBuilder$NativeBLAS: Failed to load implementation from:dev.ludovic.netlib.blas.JNIBLAS\n",
      "23/03/11 20:00:39 WARN InstanceBuilder$NativeBLAS: Failed to load implementation from:dev.ludovic.netlib.blas.ForeignLinkerBLAS\n",
      "23/03/11 20:00:39 WARN InstanceBuilder$NativeLAPACK: Failed to load implementation from:dev.ludovic.netlib.lapack.JNILAPACK\n"
     ]
    }
   ],
   "source": [
    "# パイプラインの設定：ステージの登録\n",
    "from pyspark.ml.pipeline import Pipeline\n",
    "pipeline = Pipeline(stages=[assemble, clf])\n",
    "model = pipeline.fit(linear_df)"
   ]
  },
  {
   "cell_type": "code",
   "execution_count": 9,
   "metadata": {},
   "outputs": [
    {
     "name": "stdout",
     "output_type": "stream",
     "text": [
      "+---+-------+--------+----------+------------------+\n",
      "|age|balance|campaign|  features|        prediction|\n",
      "+---+-------+--------+----------+------------------+\n",
      "| 58|   2143|       1|[58.0,1.0]|1867.1309208276969|\n",
      "| 44|     29|       1|[44.0,1.0]| 1474.315799038966|\n",
      "| 33|      2|       1|[33.0,1.0]| 1165.675346204963|\n",
      "| 47|   1506|       1|[47.0,1.0]| 1558.490467993694|\n",
      "| 33|      1|       1|[33.0,1.0]| 1165.675346204963|\n",
      "| 35|    231|       1|[35.0,1.0]|1221.7917921747817|\n",
      "| 28|    447|       1|[28.0,1.0]|1025.3842312804163|\n",
      "| 42|      2|       1|[42.0,1.0]|1418.1993530691473|\n",
      "| 58|    121|       1|[58.0,1.0]|1867.1309208276969|\n",
      "| 43|    593|       1|[43.0,1.0]|1446.2575760540565|\n",
      "| 41|    270|       1|[41.0,1.0]|1390.1411300842378|\n",
      "| 29|    390|       1|[29.0,1.0]|1053.4424542653255|\n",
      "| 53|      6|       1|[53.0,1.0]|1726.8398059031501|\n",
      "| 58|     71|       1|[58.0,1.0]|1867.1309208276969|\n",
      "| 57|    162|       1|[57.0,1.0]|1839.0726978427874|\n",
      "| 51|    229|       1|[51.0,1.0]|1670.7233599333313|\n",
      "| 45|     13|       1|[45.0,1.0]|1502.3740220238753|\n",
      "| 57|     52|       1|[57.0,1.0]|1839.0726978427874|\n",
      "| 60|     60|       1|[60.0,1.0]|1923.2473667975155|\n",
      "| 33|      0|       1|[33.0,1.0]| 1165.675346204963|\n",
      "+---+-------+--------+----------+------------------+\n",
      "only showing top 20 rows\n",
      "\n"
     ]
    }
   ],
   "source": [
    "# パイプラインの実行\n",
    "df = model.transform(linear_df)\n",
    "df.show()"
   ]
  },
  {
   "cell_type": "code",
   "execution_count": 10,
   "metadata": {},
   "outputs": [
    {
     "name": "stdout",
     "output_type": "stream",
     "text": [
      "[28.058222984909357,-14.785487706439227]\n",
      "254.53947540939342\n"
     ]
    }
   ],
   "source": [
    "# 係数の確認\n",
    "print(model.stages[1].coefficients)\n",
    "# 切片の確認\n",
    "print(model.stages[1].intercept)"
   ]
  },
  {
   "attachments": {},
   "cell_type": "markdown",
   "metadata": {},
   "source": [
    "### 線形重回帰のモデリングと予測"
   ]
  },
  {
   "cell_type": "code",
   "execution_count": 11,
   "metadata": {},
   "outputs": [],
   "source": [
    "train_df, test_df = data.select([\"age\", \"balance\", \"campaign\"]) \\\n",
    "                        .randomSplit([0.7, 0.3], seed = 1)"
   ]
  },
  {
   "cell_type": "code",
   "execution_count": 12,
   "metadata": {},
   "outputs": [
    {
     "name": "stdout",
     "output_type": "stream",
     "text": [
      "+---+-------+--------+\n",
      "|age|balance|campaign|\n",
      "+---+-------+--------+\n",
      "| 18|    108|       1|\n",
      "| 18|    608|       1|\n",
      "| 18|   1944|       3|\n",
      "| 19|      0|       3|\n",
      "| 19|     56|       1|\n",
      "| 19|     60|       1|\n",
      "| 19|     96|       3|\n",
      "| 19|    103|       2|\n",
      "| 19|    134|       2|\n",
      "| 19|    291|       5|\n",
      "| 19|    626|       1|\n",
      "| 19|   5368|       6|\n",
      "| 20|   -322|       4|\n",
      "| 20|   -172|       3|\n",
      "| 20|   -103|       1|\n",
      "| 20|     53|       1|\n",
      "| 20|     66|       2|\n",
      "| 20|     67|       1|\n",
      "| 20|     76|       2|\n",
      "| 20|     79|       3|\n",
      "+---+-------+--------+\n",
      "only showing top 20 rows\n",
      "\n"
     ]
    }
   ],
   "source": [
    "train_df.show()"
   ]
  },
  {
   "cell_type": "code",
   "execution_count": 13,
   "metadata": {},
   "outputs": [
    {
     "data": {
      "text/plain": [
       "31684"
      ]
     },
     "execution_count": 13,
     "metadata": {},
     "output_type": "execute_result"
    }
   ],
   "source": [
    "train_df.count()"
   ]
  },
  {
   "cell_type": "code",
   "execution_count": 14,
   "metadata": {},
   "outputs": [],
   "source": [
    "# データ作成ステージ\n",
    "from pyspark.ml.feature import VectorAssembler\n",
    "target = \"balance\"\n",
    "features = [\"age\", \"campaign\"]\n",
    "assemble = VectorAssembler(inputCols=features, outputCol=\"features\")"
   ]
  },
  {
   "cell_type": "code",
   "execution_count": 15,
   "metadata": {},
   "outputs": [],
   "source": [
    "# 線形重回帰ステージ\n",
    "from pyspark.ml.regression import LinearRegression\n",
    "clf = LinearRegression(featuresCol=\"features\", labelCol=\"balance\")"
   ]
  },
  {
   "cell_type": "code",
   "execution_count": 16,
   "metadata": {},
   "outputs": [
    {
     "name": "stdout",
     "output_type": "stream",
     "text": [
      "23/03/11 20:00:40 WARN Instrumentation: [04c3020a] regParam is zero, which might cause numerical instability and overfitting.\n"
     ]
    }
   ],
   "source": [
    "# パイプライン登録\n",
    "from pyspark.ml.pipeline import Pipeline\n",
    "pipeline = Pipeline(stages=[assemble, clf])\n",
    "model = pipeline.fit(train_df)"
   ]
  },
  {
   "cell_type": "code",
   "execution_count": 17,
   "metadata": {},
   "outputs": [
    {
     "name": "stdout",
     "output_type": "stream",
     "text": [
      "+---+-------+--------+----------+-----------------+\n",
      "|age|balance|campaign|  features|       prediction|\n",
      "+---+-------+--------+----------+-----------------+\n",
      "| 18|    108|       1|[18.0,1.0]| 731.419060209178|\n",
      "| 18|    608|       1|[18.0,1.0]| 731.419060209178|\n",
      "| 18|   1944|       3|[18.0,3.0]|699.1132728490966|\n",
      "| 19|      0|       3|[19.0,3.0]|728.1159917037521|\n",
      "| 19|     56|       1|[19.0,1.0]|760.4217790638336|\n",
      "| 19|     60|       1|[19.0,1.0]|760.4217790638336|\n",
      "| 19|     96|       3|[19.0,3.0]|728.1159917037521|\n",
      "| 19|    103|       2|[19.0,2.0]|744.2688853837928|\n",
      "| 19|    134|       2|[19.0,2.0]|744.2688853837928|\n",
      "| 19|    291|       5|[19.0,5.0]|695.8102043436706|\n",
      "| 19|    626|       1|[19.0,1.0]|760.4217790638336|\n",
      "| 19|   5368|       6|[19.0,6.0]|679.6573106636299|\n",
      "| 20|   -322|       4|[20.0,4.0]|740.9658168783671|\n",
      "| 20|   -172|       3|[20.0,3.0]|757.1187105584079|\n",
      "| 20|   -103|       1|[20.0,1.0]|789.4244979184894|\n",
      "| 20|     53|       1|[20.0,1.0]|789.4244979184894|\n",
      "| 20|     66|       2|[20.0,2.0]|773.2716042384486|\n",
      "| 20|     67|       1|[20.0,1.0]|789.4244979184894|\n",
      "| 20|     76|       2|[20.0,2.0]|773.2716042384486|\n",
      "| 20|     79|       3|[20.0,3.0]|757.1187105584079|\n",
      "+---+-------+--------+----------+-----------------+\n",
      "only showing top 20 rows\n",
      "\n"
     ]
    }
   ],
   "source": [
    "# 実行\n",
    "pred_train = model.transform(train_df)\n",
    "pred_train.show()"
   ]
  },
  {
   "cell_type": "code",
   "execution_count": 22,
   "metadata": {},
   "outputs": [
    {
     "data": {
      "text/plain": [
       "3091.121524988566"
      ]
     },
     "execution_count": 22,
     "metadata": {},
     "output_type": "execute_result"
    }
   ],
   "source": [
    "# RMSE(sklearn)\n",
    "from sklearn.metrics import mean_squared_error\n",
    "pred_train_pandas = pred_train.toPandas()\n",
    "np.sqrt(mean_squared_error(pred_train_pandas[\"balance\"], pred_train_pandas[\"prediction\"]))"
   ]
  },
  {
   "cell_type": "code",
   "execution_count": 25,
   "metadata": {},
   "outputs": [
    {
     "data": {
      "text/html": [
       "<div>\n",
       "<style scoped>\n",
       "    .dataframe tbody tr th:only-of-type {\n",
       "        vertical-align: middle;\n",
       "    }\n",
       "\n",
       "    .dataframe tbody tr th {\n",
       "        vertical-align: top;\n",
       "    }\n",
       "\n",
       "    .dataframe thead th {\n",
       "        text-align: right;\n",
       "    }\n",
       "</style>\n",
       "<table border=\"1\" class=\"dataframe\">\n",
       "  <thead>\n",
       "    <tr style=\"text-align: right;\">\n",
       "      <th></th>\n",
       "      <th>coefficients</th>\n",
       "    </tr>\n",
       "  </thead>\n",
       "  <tbody>\n",
       "    <tr>\n",
       "      <th>age</th>\n",
       "      <td>29.002719</td>\n",
       "    </tr>\n",
       "    <tr>\n",
       "      <th>campaign</th>\n",
       "      <td>-16.152894</td>\n",
       "    </tr>\n",
       "  </tbody>\n",
       "</table>\n",
       "</div>"
      ],
      "text/plain": [
       "          coefficients\n",
       "age          29.002719\n",
       "campaign    -16.152894"
      ]
     },
     "execution_count": 25,
     "metadata": {},
     "output_type": "execute_result"
    }
   ],
   "source": [
    "# 係数\n",
    "train_cols = train_df.columns\n",
    "train_cols.remove(target)\n",
    "pd.DataFrame(index=train_cols, data=model.stages[1].coefficients, columns=[\"coefficients\"])"
   ]
  },
  {
   "cell_type": "code",
   "execution_count": 26,
   "metadata": {},
   "outputs": [
    {
     "name": "stdout",
     "output_type": "stream",
     "text": [
      "+---+-------+--------+\n",
      "|age|balance|campaign|\n",
      "+---+-------+--------+\n",
      "| 19|      0|       4|\n",
      "| 19|     27|      12|\n",
      "| 19|    779|       4|\n",
      "| 19|   1169|      18|\n",
      "| 19|   1247|       1|\n",
      "| 19|   1803|       1|\n",
      "| 19|   1803|       1|\n",
      "| 20|    130|       3|\n",
      "| 20|    292|       1|\n",
      "| 20|    292|       2|\n",
      "| 20|    336|       1|\n",
      "| 20|    556|      10|\n",
      "| 20|   1191|       1|\n",
      "| 20|   1681|       1|\n",
      "| 20|   1819|       3|\n",
      "| 21|   -172|       1|\n",
      "| 21|      0|       5|\n",
      "| 21|     64|       1|\n",
      "| 21|    164|       5|\n",
      "| 21|    232|       2|\n",
      "+---+-------+--------+\n",
      "only showing top 20 rows\n",
      "\n"
     ]
    }
   ],
   "source": [
    "test_df.show()"
   ]
  },
  {
   "cell_type": "code",
   "execution_count": 27,
   "metadata": {},
   "outputs": [
    {
     "data": {
      "text/plain": [
       "13527"
      ]
     },
     "execution_count": 27,
     "metadata": {},
     "output_type": "execute_result"
    }
   ],
   "source": [
    "test_df.count()"
   ]
  },
  {
   "cell_type": "code",
   "execution_count": 28,
   "metadata": {},
   "outputs": [
    {
     "name": "stdout",
     "output_type": "stream",
     "text": [
      "+---+-------+--------+-----------+-----------------+\n",
      "|age|balance|campaign|   features|       prediction|\n",
      "+---+-------+--------+-----------+-----------------+\n",
      "| 19|      0|       4| [19.0,4.0]|711.9630980237114|\n",
      "| 19|     27|      12|[19.0,12.0]|582.7399485833855|\n",
      "| 19|    779|       4| [19.0,4.0]|711.9630980237114|\n",
      "| 19|   1169|      18|[19.0,18.0]|485.8225865031411|\n",
      "| 19|   1247|       1| [19.0,1.0]|760.4217790638336|\n",
      "| 19|   1803|       1| [19.0,1.0]|760.4217790638336|\n",
      "| 19|   1803|       1| [19.0,1.0]|760.4217790638336|\n",
      "| 20|    130|       3| [20.0,3.0]|757.1187105584079|\n",
      "| 20|    292|       1| [20.0,1.0]|789.4244979184894|\n",
      "| 20|    292|       2| [20.0,2.0]|773.2716042384486|\n",
      "| 20|    336|       1| [20.0,1.0]|789.4244979184894|\n",
      "| 20|    556|      10|[20.0,10.0]|644.0484547981227|\n",
      "| 20|   1191|       1| [20.0,1.0]|789.4244979184894|\n",
      "| 20|   1681|       1| [20.0,1.0]|789.4244979184894|\n",
      "| 20|   1819|       3| [20.0,3.0]|757.1187105584079|\n",
      "| 21|   -172|       1| [21.0,1.0]|818.4272167731449|\n",
      "| 21|      0|       5| [21.0,5.0]| 753.815642052982|\n",
      "| 21|     64|       1| [21.0,1.0]|818.4272167731449|\n",
      "| 21|    164|       5| [21.0,5.0]| 753.815642052982|\n",
      "| 21|    232|       2| [21.0,2.0]|802.2743230931042|\n",
      "+---+-------+--------+-----------+-----------------+\n",
      "only showing top 20 rows\n",
      "\n"
     ]
    }
   ],
   "source": [
    "pred_test = model.transform(test_df)\n",
    "pred_test.show()"
   ]
  },
  {
   "cell_type": "code",
   "execution_count": 30,
   "metadata": {},
   "outputs": [
    {
     "data": {
      "text/plain": [
       "2881.1342329320028"
      ]
     },
     "execution_count": 30,
     "metadata": {},
     "output_type": "execute_result"
    }
   ],
   "source": [
    "# RMSE(sklearn)\n",
    "from sklearn.metrics import mean_squared_error\n",
    "pred_test_pandas = pred_test.toPandas()\n",
    "np.sqrt(mean_squared_error(pred_test_pandas[\"balance\"], pred_test_pandas[\"prediction\"]))"
   ]
  }
 ],
 "metadata": {
  "kernelspec": {
   "display_name": ".venv",
   "language": "python",
   "name": "python3"
  },
  "language_info": {
   "codemirror_mode": {
    "name": "ipython",
    "version": 3
   },
   "file_extension": ".py",
   "mimetype": "text/x-python",
   "name": "python",
   "nbconvert_exporter": "python",
   "pygments_lexer": "ipython3",
   "version": "3.11.1"
  },
  "orig_nbformat": 4,
  "vscode": {
   "interpreter": {
    "hash": "f4b93a7f9a03afd00a5d51764b8a683e41b5ab7524edcfd42ab2bd3fa9711464"
   }
  }
 },
 "nbformat": 4,
 "nbformat_minor": 2
}
