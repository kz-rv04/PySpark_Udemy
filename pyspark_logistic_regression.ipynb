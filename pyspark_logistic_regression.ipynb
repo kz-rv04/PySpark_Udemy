{
 "cells": [
  {
   "attachments": {},
   "cell_type": "markdown",
   "metadata": {},
   "source": [
    "## ロジスティック回帰による分類予測"
   ]
  },
  {
   "cell_type": "code",
   "execution_count": 1,
   "metadata": {},
   "outputs": [],
   "source": [
    "import numpy as np\n",
    "import pandas as pd"
   ]
  },
  {
   "cell_type": "code",
   "execution_count": 2,
   "metadata": {},
   "outputs": [
    {
     "name": "stderr",
     "output_type": "stream",
     "text": [
      "your 131072x1 screen size is bogus. expect trouble\n"
     ]
    },
    {
     "name": "stdout",
     "output_type": "stream",
     "text": [
      "23/03/11 20:11:17 WARN Utils: Your hostname, NONAME resolves to a loopback address: 127.0.1.1; using 172.18.233.170 instead (on interface eth0)\n",
      "23/03/11 20:11:17 WARN Utils: Set SPARK_LOCAL_IP if you need to bind to another address\n"
     ]
    },
    {
     "name": "stderr",
     "output_type": "stream",
     "text": [
      "Setting default log level to \"WARN\".\n",
      "To adjust logging level use sc.setLogLevel(newLevel). For SparkR, use setLogLevel(newLevel).\n"
     ]
    },
    {
     "name": "stdout",
     "output_type": "stream",
     "text": [
      "23/03/11 20:11:19 WARN NativeCodeLoader: Unable to load native-hadoop library for your platform... using builtin-java classes where applicable\n"
     ]
    }
   ],
   "source": [
    "from pyspark.sql import SparkSession\n",
    "spark = SparkSession.builder.master(\"local\").appName(\"logistic_regression\").getOrCreate()"
   ]
  },
  {
   "cell_type": "code",
   "execution_count": 3,
   "metadata": {},
   "outputs": [
    {
     "name": "stdout",
     "output_type": "stream",
     "text": [
      "+---+------------+--------+---------+-------+-------+-------+----+-------+---+-----+--------+--------+-----+--------+--------+---+\n",
      "|age|         job| marital|education|default|balance|housing|loan|contact|day|month|duration|campaign|pdays|previous|poutcome|  y|\n",
      "+---+------------+--------+---------+-------+-------+-------+----+-------+---+-----+--------+--------+-----+--------+--------+---+\n",
      "| 58|  management| married| tertiary|     no|   2143|    yes|  no|unknown|  5|  may|     261|       1|   -1|       0| unknown| no|\n",
      "| 44|  technician|  single|secondary|     no|     29|    yes|  no|unknown|  5|  may|     151|       1|   -1|       0| unknown| no|\n",
      "| 33|entrepreneur| married|secondary|     no|      2|    yes| yes|unknown|  5|  may|      76|       1|   -1|       0| unknown| no|\n",
      "| 47| blue-collar| married|  unknown|     no|   1506|    yes|  no|unknown|  5|  may|      92|       1|   -1|       0| unknown| no|\n",
      "| 33|     unknown|  single|  unknown|     no|      1|     no|  no|unknown|  5|  may|     198|       1|   -1|       0| unknown| no|\n",
      "| 35|  management| married| tertiary|     no|    231|    yes|  no|unknown|  5|  may|     139|       1|   -1|       0| unknown| no|\n",
      "| 28|  management|  single| tertiary|     no|    447|    yes| yes|unknown|  5|  may|     217|       1|   -1|       0| unknown| no|\n",
      "| 42|entrepreneur|divorced| tertiary|    yes|      2|    yes|  no|unknown|  5|  may|     380|       1|   -1|       0| unknown| no|\n",
      "| 58|     retired| married|  primary|     no|    121|    yes|  no|unknown|  5|  may|      50|       1|   -1|       0| unknown| no|\n",
      "| 43|  technician|  single|secondary|     no|    593|    yes|  no|unknown|  5|  may|      55|       1|   -1|       0| unknown| no|\n",
      "| 41|      admin.|divorced|secondary|     no|    270|    yes|  no|unknown|  5|  may|     222|       1|   -1|       0| unknown| no|\n",
      "| 29|      admin.|  single|secondary|     no|    390|    yes|  no|unknown|  5|  may|     137|       1|   -1|       0| unknown| no|\n",
      "| 53|  technician| married|secondary|     no|      6|    yes|  no|unknown|  5|  may|     517|       1|   -1|       0| unknown| no|\n",
      "| 58|  technician| married|  unknown|     no|     71|    yes|  no|unknown|  5|  may|      71|       1|   -1|       0| unknown| no|\n",
      "| 57|    services| married|secondary|     no|    162|    yes|  no|unknown|  5|  may|     174|       1|   -1|       0| unknown| no|\n",
      "| 51|     retired| married|  primary|     no|    229|    yes|  no|unknown|  5|  may|     353|       1|   -1|       0| unknown| no|\n",
      "| 45|      admin.|  single|  unknown|     no|     13|    yes|  no|unknown|  5|  may|      98|       1|   -1|       0| unknown| no|\n",
      "| 57| blue-collar| married|  primary|     no|     52|    yes|  no|unknown|  5|  may|      38|       1|   -1|       0| unknown| no|\n",
      "| 60|     retired| married|  primary|     no|     60|    yes|  no|unknown|  5|  may|     219|       1|   -1|       0| unknown| no|\n",
      "| 33|    services| married|secondary|     no|      0|    yes|  no|unknown|  5|  may|      54|       1|   -1|       0| unknown| no|\n",
      "+---+------------+--------+---------+-------+-------+-------+----+-------+---+-----+--------+--------+-----+--------+--------+---+\n",
      "only showing top 20 rows\n",
      "\n"
     ]
    }
   ],
   "source": [
    "filename = \"./data/bank-full.csv\"\n",
    "data = spark.read.csv(filename, header=True, inferSchema=True, sep=\";\")\n",
    "data.show()"
   ]
  },
  {
   "cell_type": "code",
   "execution_count": 4,
   "metadata": {},
   "outputs": [
    {
     "data": {
      "text/plain": [
       "[('age', 'int'),\n",
       " ('job', 'string'),\n",
       " ('marital', 'string'),\n",
       " ('education', 'string'),\n",
       " ('default', 'string'),\n",
       " ('balance', 'int'),\n",
       " ('housing', 'string'),\n",
       " ('loan', 'string'),\n",
       " ('contact', 'string'),\n",
       " ('day', 'int'),\n",
       " ('month', 'string'),\n",
       " ('duration', 'int'),\n",
       " ('campaign', 'int'),\n",
       " ('pdays', 'int'),\n",
       " ('previous', 'int'),\n",
       " ('poutcome', 'string'),\n",
       " ('y', 'string')]"
      ]
     },
     "execution_count": 4,
     "metadata": {},
     "output_type": "execute_result"
    }
   ],
   "source": [
    "data.dtypes"
   ]
  },
  {
   "cell_type": "code",
   "execution_count": 7,
   "metadata": {},
   "outputs": [
    {
     "name": "stdout",
     "output_type": "stream",
     "text": [
      "+---+------------+--------+---------+-------+-------+-------+----+-------+---+-----+--------+--------+-----+--------+--------+---+---+\n",
      "|age|         job| marital|education|default|balance|housing|loan|contact|day|month|duration|campaign|pdays|previous|poutcome|  y| y1|\n",
      "+---+------------+--------+---------+-------+-------+-------+----+-------+---+-----+--------+--------+-----+--------+--------+---+---+\n",
      "| 58|  management| married| tertiary|     no|   2143|    yes|  no|unknown|  5|  may|     261|       1|   -1|       0| unknown| no|0.0|\n",
      "| 44|  technician|  single|secondary|     no|     29|    yes|  no|unknown|  5|  may|     151|       1|   -1|       0| unknown| no|0.0|\n",
      "| 33|entrepreneur| married|secondary|     no|      2|    yes| yes|unknown|  5|  may|      76|       1|   -1|       0| unknown| no|0.0|\n",
      "| 47| blue-collar| married|  unknown|     no|   1506|    yes|  no|unknown|  5|  may|      92|       1|   -1|       0| unknown| no|0.0|\n",
      "| 33|     unknown|  single|  unknown|     no|      1|     no|  no|unknown|  5|  may|     198|       1|   -1|       0| unknown| no|0.0|\n",
      "| 35|  management| married| tertiary|     no|    231|    yes|  no|unknown|  5|  may|     139|       1|   -1|       0| unknown| no|0.0|\n",
      "| 28|  management|  single| tertiary|     no|    447|    yes| yes|unknown|  5|  may|     217|       1|   -1|       0| unknown| no|0.0|\n",
      "| 42|entrepreneur|divorced| tertiary|    yes|      2|    yes|  no|unknown|  5|  may|     380|       1|   -1|       0| unknown| no|0.0|\n",
      "| 58|     retired| married|  primary|     no|    121|    yes|  no|unknown|  5|  may|      50|       1|   -1|       0| unknown| no|0.0|\n",
      "| 43|  technician|  single|secondary|     no|    593|    yes|  no|unknown|  5|  may|      55|       1|   -1|       0| unknown| no|0.0|\n",
      "| 41|      admin.|divorced|secondary|     no|    270|    yes|  no|unknown|  5|  may|     222|       1|   -1|       0| unknown| no|0.0|\n",
      "| 29|      admin.|  single|secondary|     no|    390|    yes|  no|unknown|  5|  may|     137|       1|   -1|       0| unknown| no|0.0|\n",
      "| 53|  technician| married|secondary|     no|      6|    yes|  no|unknown|  5|  may|     517|       1|   -1|       0| unknown| no|0.0|\n",
      "| 58|  technician| married|  unknown|     no|     71|    yes|  no|unknown|  5|  may|      71|       1|   -1|       0| unknown| no|0.0|\n",
      "| 57|    services| married|secondary|     no|    162|    yes|  no|unknown|  5|  may|     174|       1|   -1|       0| unknown| no|0.0|\n",
      "| 51|     retired| married|  primary|     no|    229|    yes|  no|unknown|  5|  may|     353|       1|   -1|       0| unknown| no|0.0|\n",
      "| 45|      admin.|  single|  unknown|     no|     13|    yes|  no|unknown|  5|  may|      98|       1|   -1|       0| unknown| no|0.0|\n",
      "| 57| blue-collar| married|  primary|     no|     52|    yes|  no|unknown|  5|  may|      38|       1|   -1|       0| unknown| no|0.0|\n",
      "| 60|     retired| married|  primary|     no|     60|    yes|  no|unknown|  5|  may|     219|       1|   -1|       0| unknown| no|0.0|\n",
      "| 33|    services| married|secondary|     no|      0|    yes|  no|unknown|  5|  may|      54|       1|   -1|       0| unknown| no|0.0|\n",
      "+---+------------+--------+---------+-------+-------+-------+----+-------+---+-----+--------+--------+-----+--------+--------+---+---+\n",
      "only showing top 20 rows\n",
      "\n"
     ]
    }
   ],
   "source": [
    "# 目的変数の作成\n",
    "from pyspark.sql.functions import lit, when, col\n",
    "data1 = data.withColumn(\"y1\", when(col(\"y\")==\"yes\", lit(1.0)).otherwise(lit(0.0)))\n",
    "data1.show()"
   ]
  },
  {
   "cell_type": "code",
   "execution_count": 8,
   "metadata": {},
   "outputs": [],
   "source": [
    "# Stringの処理（default）\n",
    "from pyspark.ml.feature import StringIndexer\n",
    "default_index = StringIndexer(inputCol=\"default\", outputCol=\"default_index\")"
   ]
  },
  {
   "cell_type": "code",
   "execution_count": 9,
   "metadata": {},
   "outputs": [],
   "source": [
    "## assemble\n",
    "from pyspark.ml.feature import VectorAssembler\n",
    "assemble = VectorAssembler(inputCols=[\"age\", \"balance\", \"duration\", \"campaign\", \"previous\", \"default_index\"],\n",
    "                            outputCol=\"features\")"
   ]
  },
  {
   "cell_type": "code",
   "execution_count": 10,
   "metadata": {},
   "outputs": [],
   "source": [
    "# 標準化\n",
    "from pyspark.ml.feature import StandardScaler\n",
    "scaler = StandardScaler(inputCol=\"features\", outputCol=\"scaled_features\")\n"
   ]
  },
  {
   "cell_type": "code",
   "execution_count": 12,
   "metadata": {},
   "outputs": [],
   "source": [
    "# ロジスティック回帰\n",
    "from pyspark.ml.classification import LogisticRegression\n",
    "logistic_regression = LogisticRegression(featuresCol=\"scaled_features\", labelCol=\"y1\")"
   ]
  },
  {
   "cell_type": "code",
   "execution_count": 13,
   "metadata": {},
   "outputs": [],
   "source": [
    "# パイプラインの登録\n",
    "from pyspark.ml import Pipeline\n",
    "pipeline = Pipeline(stages=[default_index, assemble, scaler, logistic_regression])"
   ]
  },
  {
   "cell_type": "code",
   "execution_count": 15,
   "metadata": {},
   "outputs": [],
   "source": [
    "df = data1.select(\"age\", \"balance\", \"duration\", \"campaign\", \"previous\", \"default\", \"y\", \"y1\")"
   ]
  },
  {
   "cell_type": "code",
   "execution_count": 16,
   "metadata": {},
   "outputs": [],
   "source": [
    "# 訓練データとテストデータを分ける\n",
    "train_df, test_df = df.randomSplit([0.7, 0.3], seed=1234)"
   ]
  },
  {
   "cell_type": "code",
   "execution_count": 17,
   "metadata": {},
   "outputs": [
    {
     "name": "stderr",
     "output_type": "stream",
     "text": [
      "                                                                                \r"
     ]
    },
    {
     "name": "stdout",
     "output_type": "stream",
     "text": [
      "23/03/11 20:32:47 WARN InstanceBuilder$NativeBLAS: Failed to load implementation from:dev.ludovic.netlib.blas.JNIBLAS\n",
      "23/03/11 20:32:47 WARN InstanceBuilder$NativeBLAS: Failed to load implementation from:dev.ludovic.netlib.blas.ForeignLinkerBLAS\n"
     ]
    }
   ],
   "source": [
    "# 訓練データによるモデリング\n",
    "fit_model = pipeline.fit(train_df)"
   ]
  },
  {
   "cell_type": "code",
   "execution_count": 18,
   "metadata": {},
   "outputs": [
    {
     "data": {
      "text/plain": [
       "DenseVector([0.0461, 0.1101, 0.9227, -0.4444, 0.2843, -0.0603])"
      ]
     },
     "execution_count": 18,
     "metadata": {},
     "output_type": "execute_result"
    }
   ],
   "source": [
    "# モデリング結果の確認\n",
    "fit_model.stages[3].coefficients"
   ]
  },
  {
   "cell_type": "code",
   "execution_count": 20,
   "metadata": {},
   "outputs": [
    {
     "data": {
      "text/plain": [
       "-3.235967044154471"
      ]
     },
     "execution_count": 20,
     "metadata": {},
     "output_type": "execute_result"
    }
   ],
   "source": [
    "fit_model.stages[3].intercept"
   ]
  },
  {
   "cell_type": "code",
   "execution_count": 21,
   "metadata": {},
   "outputs": [],
   "source": [
    "# 訓練データを使って推論\n",
    "pred_train = fit_model.transform(train_df)"
   ]
  },
  {
   "cell_type": "code",
   "execution_count": 22,
   "metadata": {},
   "outputs": [
    {
     "name": "stdout",
     "output_type": "stream",
     "text": [
      "+---+-------+--------+--------+--------+-------+---+---+-------------+--------------------+--------------------+--------------------+--------------------+----------+\n",
      "|age|balance|duration|campaign|previous|default|  y| y1|default_index|            features|     scaled_features|       rawPrediction|         probability|prediction|\n",
      "+---+-------+--------+--------+--------+-------+---+---+-------------+--------------------+--------------------+--------------------+--------------------+----------+\n",
      "| 18|     35|     104|       2|       0|     no| no|0.0|          0.0|[18.0,35.0,104.0,...|[1.69579509967235...|[3.06350348098031...|[0.95536194323606...|       0.0|\n",
      "| 18|    108|      92|       1|       1|     no|yes|1.0|          0.0|[18.0,108.0,92.0,...|[1.69579509967235...|[2.81052152711537...|[0.94324174651528...|       0.0|\n",
      "| 18|    108|     169|       1|       0|     no|yes|1.0|          0.0|[18.0,108.0,169.0...|[1.69579509967235...|[2.68263210486711...|[0.93599399206992...|       0.0|\n",
      "| 18|    156|     298|       2|       4|     no| no|0.0|          0.0|[18.0,156.0,298.0...|[1.69579509967235...|[1.74813118391871...|[0.85171693457435...|       0.0|\n",
      "| 18|    348|     443|       4|       0|     no|yes|1.0|          0.0|[18.0,348.0,443.0...|[1.69579509967235...|[2.10596186036869...|[0.89148129105415...|       0.0|\n",
      "| 18|    438|     425|       1|       0|     no| no|0.0|          0.0|[18.0,438.0,425.0...|[1.69579509967235...|[1.74131428987997...|[0.85085392777459...|       0.0|\n",
      "| 18|    608|     210|       1|       1|     no|yes|1.0|          0.0|[18.0,608.0,210.0...|[1.69579509967235...|[2.36411177360819...|[0.91404938963609...|       0.0|\n",
      "| 18|    608|     267|       1|       0|     no|yes|1.0|          0.0|[18.0,608.0,267.0...|[1.69579509967235...|[2.30883490218773...|[0.90960610335261...|       0.0|\n",
      "| 18|   1944|     122|       3|       0|     no| no|0.0|          0.0|[18.0,1944.0,122....|[1.69579509967235...|[3.07169780199596...|[0.95571009312995...|       0.0|\n",
      "| 19|      0|      72|       4|       0|     no| no|0.0|          0.0|[19.0,0.0,72.0,4....|[1.79000593854304...|[3.46110940872370...|[0.96956072547184...|       0.0|\n",
      "| 19|      0|     123|       3|       0|     no| no|0.0|          0.0|[19.0,0.0,123.0,3...|[1.79000593854304...|[3.13369419091895...|[0.95826139800661...|       0.0|\n",
      "| 19|      4|     114|       1|       0|     no| no|0.0|          0.0|[19.0,4.0,114.0,1...|[1.79000593854304...|[2.88171944677475...|[0.94693533018398...|       0.0|\n",
      "| 19|     27|      86|      12|       0|     no| no|0.0|          0.0|[19.0,27.0,86.0,1...|[1.79000593854304...|[4.54733456069946...|[0.98951567747997...|       0.0|\n",
      "| 19|     55|      89|       2|       1|     no| no|0.0|          0.0|[19.0,55.0,89.0,2...|[1.79000593854304...|[2.96123388829503...|[0.95079175571351...|       0.0|\n",
      "| 19|     56|     246|       1|       0|     no| no|0.0|          0.0|[19.0,56.0,246.0,...|[1.79000593854304...|[2.40060505813445...|[0.91687343057867...|       0.0|\n",
      "| 19|     60|     253|       1|       0|     no| no|0.0|          0.0|[19.0,60.0,253.0,...|[1.79000593854304...|[2.37504669971574...|[0.91490459083152...|       0.0|\n",
      "| 19|     88|     191|       1|       0|     no| no|0.0|          0.0|[19.0,88.0,191.0,...|[1.79000593854304...|[2.59913784787903...|[0.93080607239677...|       0.0|\n",
      "| 19|     96|     106|       3|       0|     no| no|0.0|          0.0|[19.0,96.0,106.0,...|[1.79000593854304...|[3.19195968402693...|[0.96053058225962...|       0.0|\n",
      "| 19|    103|     104|       2|       0|     no|yes|1.0|          0.0|[19.0,103.0,104.0...|[1.79000593854304...|[3.05671578606513...|[0.95507158223834...|       0.0|\n",
      "| 19|    103|     177|       2|       4|     no| no|0.0|          0.0|[19.0,103.0,177.0...|[1.79000593854304...|[2.18500438178854...|[0.89889479382008...|       0.0|\n",
      "+---+-------+--------+--------+--------+-------+---+---+-------------+--------------------+--------------------+--------------------+--------------------+----------+\n",
      "only showing top 20 rows\n",
      "\n"
     ]
    }
   ],
   "source": [
    "pred_train.show()"
   ]
  },
  {
   "cell_type": "code",
   "execution_count": 23,
   "metadata": {},
   "outputs": [
    {
     "name": "stdout",
     "output_type": "stream",
     "text": [
      "+----------------------------------------+-----------------------------------------+\n",
      "|rawPrediction                           |probability                              |\n",
      "+----------------------------------------+-----------------------------------------+\n",
      "|[3.0635034809803106,-3.0635034809803106]|[0.9553619432360639,0.04463805676393606] |\n",
      "|[2.810521527115374,-2.810521527115374]  |[0.9432417465152875,0.05675825348471253] |\n",
      "|[2.682632104867116,-2.682632104867116]  |[0.9359939920699281,0.06400600793007194] |\n",
      "|[1.7481311839187144,-1.7481311839187144]|[0.8517169345743546,0.1482830654256454]  |\n",
      "|[2.105961860368695,-2.105961860368695]  |[0.8914812910541509,0.10851870894584914] |\n",
      "|[1.7413142898799734,-1.7413142898799734]|[0.8508539277745952,0.14914607222540477] |\n",
      "|[2.364111773608193,-2.364111773608193]  |[0.9140493896360999,0.08595061036390006] |\n",
      "|[2.3088349021877366,-2.3088349021877366]|[0.9096061033526104,0.09039389664738962] |\n",
      "|[3.071697801995961,-3.071697801995961]  |[0.9557100931299585,0.04428990687004153] |\n",
      "|[3.4611094087237047,-3.4611094087237047]|[0.9695607254718406,0.03043927452815942] |\n",
      "|[3.133694190918951,-3.133694190918951]  |[0.9582613980066161,0.04173860199338386] |\n",
      "|[2.881719446774759,-2.881719446774759]  |[0.9469353301839818,0.053064669816018206]|\n",
      "|[4.547334560699464,-4.547334560699464]  |[0.9895156774799746,0.010484322520025402]|\n",
      "|[2.96123388829503,-2.96123388829503]    |[0.9507917557135181,0.04920824428648185] |\n",
      "|[2.4006050581344596,-2.4006050581344596]|[0.9168734305786732,0.08312656942132679] |\n",
      "|[2.3750466997157433,-2.3750466997157433]|[0.914904590831526,0.08509540916847402]  |\n",
      "|[2.5991378478790326,-2.5991378478790326]|[0.9308060723967719,0.06919392760322807] |\n",
      "|[3.191959684026938,-3.191959684026938]  |[0.9605305822596248,0.03946941774037516] |\n",
      "|[3.056715786065135,-3.056715786065135]  |[0.9550715822383453,0.04492841776165468] |\n",
      "|[2.1850043817885423,-2.1850043817885423]|[0.898894793820082,0.10110520617991803]  |\n",
      "+----------------------------------------+-----------------------------------------+\n",
      "only showing top 20 rows\n",
      "\n"
     ]
    }
   ],
   "source": [
    "pred_train.select(\"rawPrediction\", \"probability\").show(truncate=False)"
   ]
  },
  {
   "cell_type": "code",
   "execution_count": 24,
   "metadata": {},
   "outputs": [
    {
     "name": "stdout",
     "output_type": "stream",
     "text": [
      "[0.95536194 0.04463806]\n"
     ]
    }
   ],
   "source": [
    "z = np.array([3.0635034809803106,-3.0635034809803106])\n",
    "q = 1 / (1+np.exp(-z))\n",
    "print(q)"
   ]
  },
  {
   "cell_type": "code",
   "execution_count": 25,
   "metadata": {},
   "outputs": [
    {
     "name": "stderr",
     "output_type": "stream",
     "text": [
      "                                                                                \r"
     ]
    },
    {
     "name": "stdout",
     "output_type": "stream",
     "text": [
      "0.8331547859811365\n"
     ]
    }
   ],
   "source": [
    "# 精度評価（訓練データ） AUCの算出\n",
    "from pyspark.ml.evaluation import BinaryClassificationEvaluator\n",
    "evaluator = BinaryClassificationEvaluator(labelCol=\"y1\")\n",
    "AUC = evaluator.evaluate(pred_train)\n",
    "print(AUC)"
   ]
  },
  {
   "cell_type": "code",
   "execution_count": 26,
   "metadata": {},
   "outputs": [
    {
     "name": "stdout",
     "output_type": "stream",
     "text": [
      "+---+-------+--------+--------+--------+-------+---+---+\n",
      "|age|balance|duration|campaign|previous|default|  y| y1|\n",
      "+---+-------+--------+--------+--------+-------+---+---+\n",
      "| 18|      3|     130|       2|       0|     no|yes|1.0|\n",
      "| 18|      5|     143|       2|       0|     no| no|0.0|\n",
      "| 18|    108|     167|       1|       0|     no|yes|1.0|\n",
      "| 19|    103|      96|       2|       2|     no| no|0.0|\n",
      "| 19|    108|     168|       1|       2|     no|yes|1.0|\n",
      "| 19|    108|     273|       2|       1|     no|yes|1.0|\n",
      "| 19|    134|     271|       2|       0|     no|yes|1.0|\n",
      "| 19|    179|      62|       3|       0|     no| no|0.0|\n",
      "| 19|    291|     291|       5|       0|     no| no|0.0|\n",
      "| 19|    329|     169|       1|       2|     no|yes|1.0|\n",
      "| 19|    329|     252|       2|       0|     no|yes|1.0|\n",
      "| 19|    526|     122|       3|       0|     no| no|0.0|\n",
      "| 19|   1803|     124|       1|       1|     no| no|0.0|\n",
      "| 20|   -322|      73|       4|       0|     no| no|0.0|\n",
      "| 20|     29|      85|       2|       0|     no| no|0.0|\n",
      "| 20|     76|     639|       2|       0|     no|yes|1.0|\n",
      "| 20|     79|     168|       3|       0|     no| no|0.0|\n",
      "| 20|     88|     621|       1|       4|     no| no|0.0|\n",
      "| 20|    153|     100|       1|       0|     no|yes|1.0|\n",
      "| 20|    162|     106|       2|       0|     no| no|0.0|\n",
      "+---+-------+--------+--------+--------+-------+---+---+\n",
      "only showing top 20 rows\n",
      "\n"
     ]
    }
   ],
   "source": [
    "# テストデータ\n",
    "test_df.show()"
   ]
  },
  {
   "cell_type": "code",
   "execution_count": 27,
   "metadata": {},
   "outputs": [
    {
     "data": {
      "text/plain": [
       "13562"
      ]
     },
     "execution_count": 27,
     "metadata": {},
     "output_type": "execute_result"
    }
   ],
   "source": [
    "test_df.count()"
   ]
  },
  {
   "cell_type": "code",
   "execution_count": 28,
   "metadata": {},
   "outputs": [],
   "source": [
    "# テストデータの推論\n",
    "pred_test = fit_model.transform(test_df)"
   ]
  },
  {
   "cell_type": "code",
   "execution_count": 29,
   "metadata": {},
   "outputs": [
    {
     "name": "stdout",
     "output_type": "stream",
     "text": [
      "+---+-------+--------+--------+--------+-------+---+---+-------------+--------------------+--------------------+--------------------+--------------------+----------+\n",
      "|age|balance|duration|campaign|previous|default|  y| y1|default_index|            features|     scaled_features|       rawPrediction|         probability|prediction|\n",
      "+---+-------+--------+--------+--------+-------+---+---+-------------+--------------------+--------------------+--------------------+--------------------+----------+\n",
      "| 18|      3|     130|       2|       0|     no|yes|1.0|          0.0|[18.0,3.0,130.0,2...|[1.69579509967235...|[2.97025888993604...|[0.95121229283086...|       0.0|\n",
      "| 18|      5|     143|       2|       0|     no| no|0.0|          0.0|[18.0,5.0,143.0,2...|[1.69579509967235...|[2.92298874908348...|[0.94897122314169...|       0.0|\n",
      "| 18|    108|     167|       1|       0|     no|yes|1.0|          0.0|[18.0,108.0,167.0...|[1.69579509967235...|[2.68989335994989...|[0.93642763358003...|       0.0|\n",
      "| 19|    103|      96|       2|       2|     no| no|0.0|          0.0|[19.0,103.0,96.0,...|[1.79000593854304...|[2.78242300951869...|[0.94171857303437...|       0.0|\n",
      "| 19|    108|     168|       1|       2|     no|yes|1.0|          0.0|[19.0,108.0,168.0...|[1.79000593854304...|[2.37858465630852...|[0.91517963151963...|       0.0|\n",
      "| 19|    108|     273|       2|       1|     no|yes|1.0|          0.0|[19.0,108.0,273.0...|[1.79000593854304...|[2.29129087609519...|[0.90815318005653...|       0.0|\n",
      "| 19|    134|     271|       2|       0|     no|yes|1.0|          0.0|[19.0,134.0,271.0...|[1.79000593854304...|[2.44928525302835...|[0.92050916703822...|       0.0|\n",
      "| 19|    179|      62|       3|       0|     no| no|0.0|          0.0|[19.0,179.0,62.0,...|[1.79000593854304...|[3.34872000904665...|[0.96606289588002...|       0.0|\n",
      "| 19|    291|     291|       5|       0|     no| no|0.0|          0.0|[19.0,291.0,291.0...|[1.79000593854304...|[2.79778169084446...|[0.94255583307541...|       0.0|\n",
      "| 19|    329|     169|       1|       2|     no|yes|1.0|          0.0|[19.0,329.0,169.0...|[1.79000593854304...|[2.36699992776569...|[0.91427602081666...|       0.0|\n",
      "| 19|    329|     252|       2|       0|     no|yes|1.0|          0.0|[19.0,329.0,252.0...|[1.79000593854304...|[2.51124885190173...|[0.92492665350219...|       0.0|\n",
      "| 19|    526|     122|       3|       0|     no| no|0.0|          0.0|[19.0,526.0,122.0...|[1.79000593854304...|[3.11839333824878...|[0.95764510831862...|       0.0|\n",
      "| 19|   1803|     124|       1|       1|     no| no|0.0|          0.0|[19.0,1803.0,124....|[1.79000593854304...|[2.62899573128598...|[0.93270454208469...|       0.0|\n",
      "| 20|   -322|      73|       4|       0|     no| no|0.0|          0.0|[20.0,-322.0,73.0...|[1.88421677741372...|[3.46472773509319...|[0.96966733090179...|       0.0|\n",
      "| 20|     29|      85|       2|       0|     no| no|0.0|          0.0|[20.0,29.0,85.0,2...|[1.88421677741372...|[3.12402079426534...|[0.95787277637587...|       0.0|\n",
      "| 20|     76|     639|       2|       0|     no|yes|1.0|          0.0|[20.0,76.0,639.0,...|[1.88421677741372...|[1.11096154019465...|[0.75230832879230...|       0.0|\n",
      "| 20|     79|     168|       3|       0|     no| no|0.0|          0.0|[20.0,79.0,168.0,...|[1.88421677741372...|[2.96313235116151...|[0.95088050272527...|       0.0|\n",
      "| 20|     88|     621|       1|       4|     no| no|0.0|          0.0|[20.0,88.0,621.0,...|[1.88421677741372...|[0.42695213210375...|[0.60514563135520...|       0.0|\n",
      "| 20|    153|     100|       1|       0|     no|yes|1.0|          0.0|[20.0,153.0,100.0...|[1.88421677741372...|[2.92284523345209...|[0.94896427297227...|       0.0|\n",
      "| 20|    162|     106|       2|       0|     no| no|0.0|          0.0|[20.0,162.0,106.0...|[1.88421677741372...|[3.04299075873239...|[0.95447895111128...|       0.0|\n",
      "+---+-------+--------+--------+--------+-------+---+---+-------------+--------------------+--------------------+--------------------+--------------------+----------+\n",
      "only showing top 20 rows\n",
      "\n"
     ]
    }
   ],
   "source": [
    "pred_test.show()"
   ]
  },
  {
   "cell_type": "code",
   "execution_count": 30,
   "metadata": {},
   "outputs": [
    {
     "name": "stdout",
     "output_type": "stream",
     "text": [
      "0.8321723113642512\n"
     ]
    }
   ],
   "source": [
    "# 精度評価（訓練データ） AUCの算出\n",
    "from pyspark.ml.evaluation import BinaryClassificationEvaluator\n",
    "evaluator = BinaryClassificationEvaluator(labelCol=\"y1\")\n",
    "AUC = evaluator.evaluate(pred_test)\n",
    "print(AUC)"
   ]
  },
  {
   "attachments": {},
   "cell_type": "markdown",
   "metadata": {},
   "source": [
    "#### 混同行列"
   ]
  },
  {
   "cell_type": "code",
   "execution_count": 32,
   "metadata": {},
   "outputs": [
    {
     "data": {
      "text/html": [
       "<div>\n",
       "<style scoped>\n",
       "    .dataframe tbody tr th:only-of-type {\n",
       "        vertical-align: middle;\n",
       "    }\n",
       "\n",
       "    .dataframe tbody tr th {\n",
       "        vertical-align: top;\n",
       "    }\n",
       "\n",
       "    .dataframe thead th {\n",
       "        text-align: right;\n",
       "    }\n",
       "</style>\n",
       "<table border=\"1\" class=\"dataframe\">\n",
       "  <thead>\n",
       "    <tr style=\"text-align: right;\">\n",
       "      <th></th>\n",
       "      <th>y1</th>\n",
       "    </tr>\n",
       "  </thead>\n",
       "  <tbody>\n",
       "    <tr>\n",
       "      <th>0</th>\n",
       "      <td>1.0</td>\n",
       "    </tr>\n",
       "    <tr>\n",
       "      <th>1</th>\n",
       "      <td>0.0</td>\n",
       "    </tr>\n",
       "    <tr>\n",
       "      <th>2</th>\n",
       "      <td>1.0</td>\n",
       "    </tr>\n",
       "    <tr>\n",
       "      <th>3</th>\n",
       "      <td>0.0</td>\n",
       "    </tr>\n",
       "    <tr>\n",
       "      <th>4</th>\n",
       "      <td>1.0</td>\n",
       "    </tr>\n",
       "    <tr>\n",
       "      <th>...</th>\n",
       "      <td>...</td>\n",
       "    </tr>\n",
       "    <tr>\n",
       "      <th>13557</th>\n",
       "      <td>0.0</td>\n",
       "    </tr>\n",
       "    <tr>\n",
       "      <th>13558</th>\n",
       "      <td>1.0</td>\n",
       "    </tr>\n",
       "    <tr>\n",
       "      <th>13559</th>\n",
       "      <td>1.0</td>\n",
       "    </tr>\n",
       "    <tr>\n",
       "      <th>13560</th>\n",
       "      <td>0.0</td>\n",
       "    </tr>\n",
       "    <tr>\n",
       "      <th>13561</th>\n",
       "      <td>0.0</td>\n",
       "    </tr>\n",
       "  </tbody>\n",
       "</table>\n",
       "<p>13562 rows × 1 columns</p>\n",
       "</div>"
      ],
      "text/plain": [
       "        y1\n",
       "0      1.0\n",
       "1      0.0\n",
       "2      1.0\n",
       "3      0.0\n",
       "4      1.0\n",
       "...    ...\n",
       "13557  0.0\n",
       "13558  1.0\n",
       "13559  1.0\n",
       "13560  0.0\n",
       "13561  0.0\n",
       "\n",
       "[13562 rows x 1 columns]"
      ]
     },
     "execution_count": 32,
     "metadata": {},
     "output_type": "execute_result"
    }
   ],
   "source": [
    "\n",
    "from sklearn.metrics import confusion_matrix\n",
    "y_true = pred_test.select(\"y1\")\n",
    "y_true = y_true.toPandas()\n",
    "y_true"
   ]
  },
  {
   "cell_type": "code",
   "execution_count": 33,
   "metadata": {},
   "outputs": [
    {
     "data": {
      "text/html": [
       "<div>\n",
       "<style scoped>\n",
       "    .dataframe tbody tr th:only-of-type {\n",
       "        vertical-align: middle;\n",
       "    }\n",
       "\n",
       "    .dataframe tbody tr th {\n",
       "        vertical-align: top;\n",
       "    }\n",
       "\n",
       "    .dataframe thead th {\n",
       "        text-align: right;\n",
       "    }\n",
       "</style>\n",
       "<table border=\"1\" class=\"dataframe\">\n",
       "  <thead>\n",
       "    <tr style=\"text-align: right;\">\n",
       "      <th></th>\n",
       "      <th>prediction</th>\n",
       "    </tr>\n",
       "  </thead>\n",
       "  <tbody>\n",
       "    <tr>\n",
       "      <th>0</th>\n",
       "      <td>0.0</td>\n",
       "    </tr>\n",
       "    <tr>\n",
       "      <th>1</th>\n",
       "      <td>0.0</td>\n",
       "    </tr>\n",
       "    <tr>\n",
       "      <th>2</th>\n",
       "      <td>0.0</td>\n",
       "    </tr>\n",
       "    <tr>\n",
       "      <th>3</th>\n",
       "      <td>0.0</td>\n",
       "    </tr>\n",
       "    <tr>\n",
       "      <th>4</th>\n",
       "      <td>0.0</td>\n",
       "    </tr>\n",
       "    <tr>\n",
       "      <th>...</th>\n",
       "      <td>...</td>\n",
       "    </tr>\n",
       "    <tr>\n",
       "      <th>13557</th>\n",
       "      <td>0.0</td>\n",
       "    </tr>\n",
       "    <tr>\n",
       "      <th>13558</th>\n",
       "      <td>1.0</td>\n",
       "    </tr>\n",
       "    <tr>\n",
       "      <th>13559</th>\n",
       "      <td>1.0</td>\n",
       "    </tr>\n",
       "    <tr>\n",
       "      <th>13560</th>\n",
       "      <td>0.0</td>\n",
       "    </tr>\n",
       "    <tr>\n",
       "      <th>13561</th>\n",
       "      <td>0.0</td>\n",
       "    </tr>\n",
       "  </tbody>\n",
       "</table>\n",
       "<p>13562 rows × 1 columns</p>\n",
       "</div>"
      ],
      "text/plain": [
       "       prediction\n",
       "0             0.0\n",
       "1             0.0\n",
       "2             0.0\n",
       "3             0.0\n",
       "4             0.0\n",
       "...           ...\n",
       "13557         0.0\n",
       "13558         1.0\n",
       "13559         1.0\n",
       "13560         0.0\n",
       "13561         0.0\n",
       "\n",
       "[13562 rows x 1 columns]"
      ]
     },
     "execution_count": 33,
     "metadata": {},
     "output_type": "execute_result"
    }
   ],
   "source": [
    "from sklearn.metrics import confusion_matrix\n",
    "y_pred = pred_test.select(\"prediction\")\n",
    "y_pred = y_pred.toPandas()\n",
    "y_pred"
   ]
  },
  {
   "cell_type": "code",
   "execution_count": 35,
   "metadata": {},
   "outputs": [
    {
     "data": {
      "text/plain": [
       "array([[11749,   214],\n",
       "       [ 1304,   295]])"
      ]
     },
     "execution_count": 35,
     "metadata": {},
     "output_type": "execute_result"
    }
   ],
   "source": [
    "class_name = [0, 1]\n",
    "cnf_matrix = confusion_matrix(y_true, y_pred, labels=class_name)\n",
    "cnf_matrix"
   ]
  },
  {
   "cell_type": "code",
   "execution_count": 37,
   "metadata": {},
   "outputs": [
    {
     "data": {
      "text/plain": [
       "(11749, 214, 1304, 295)"
      ]
     },
     "execution_count": 37,
     "metadata": {},
     "output_type": "execute_result"
    }
   ],
   "source": [
    "tn, fp, fn, tp = cnf_matrix.flatten()\n",
    "tn, fp, fn, tp"
   ]
  },
  {
   "cell_type": "code",
   "execution_count": 38,
   "metadata": {},
   "outputs": [
    {
     "name": "stdout",
     "output_type": "stream",
     "text": [
      "accuracy: 0.8880696062527651\n"
     ]
    }
   ],
   "source": [
    "from sklearn.metrics import accuracy_score, precision_score, recall_score, f1_score\n",
    "print(\"accuracy:\", accuracy_score(y_true, y_pred)) "
   ]
  },
  {
   "cell_type": "code",
   "execution_count": 39,
   "metadata": {},
   "outputs": [
    {
     "name": "stdout",
     "output_type": "stream",
     "text": [
      "precision_score: 0.5795677799607073\n",
      "recall: 0.18449030644152595\n",
      "f1_score: 0.27988614800759015\n"
     ]
    }
   ],
   "source": [
    "print(\"precision_score:\", precision_score(y_true, y_pred))\n",
    "print(\"recall:\", recall_score(y_true, y_pred))\n",
    "print(\"f1_score:\", f1_score(y_true, y_pred))\n"
   ]
  },
  {
   "cell_type": "code",
   "execution_count": null,
   "metadata": {},
   "outputs": [],
   "source": []
  }
 ],
 "metadata": {
  "kernelspec": {
   "display_name": ".venv",
   "language": "python",
   "name": "python3"
  },
  "language_info": {
   "codemirror_mode": {
    "name": "ipython",
    "version": 3
   },
   "file_extension": ".py",
   "mimetype": "text/x-python",
   "name": "python",
   "nbconvert_exporter": "python",
   "pygments_lexer": "ipython3",
   "version": "3.11.1"
  },
  "orig_nbformat": 4,
  "vscode": {
   "interpreter": {
    "hash": "f4b93a7f9a03afd00a5d51764b8a683e41b5ab7524edcfd42ab2bd3fa9711464"
   }
  }
 },
 "nbformat": 4,
 "nbformat_minor": 2
}
